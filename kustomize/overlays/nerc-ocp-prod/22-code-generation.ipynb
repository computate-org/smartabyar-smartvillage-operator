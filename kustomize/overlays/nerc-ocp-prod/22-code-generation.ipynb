{
 "cells": [
  {
   "cell_type": "code",
   "execution_count": null,
   "id": "afb89892-f417-4fba-9c1c-d0f04d328af1",
   "metadata": {},
   "outputs": [],
   "source": [
    "%%bash\n",
    "install -d ~/.local/src/smartabyar-smartvillage\n",
    "git clone https://github.com/computate-org/computate.git ~/computate\n",
    "git clone https://github.com/computate-org/computate-search.git ~/computate-search\n",
    "git clone https://github.com/computate-org/computate-vertx.git ~/computate-vertx\n",
    "git clone https://github.com/computate-org/smartvillage-platform.git ~/smartvillage-platform\n",
    "git clone https://github.com/computate-org/smartabyar-smartvillage.git ~/smartabyar-smartvillage\n",
    "echo DONE"
   ]
  },
  {
   "cell_type": "code",
   "execution_count": null,
   "id": "50663f45-25ce-4551-8550-0986e67369be",
   "metadata": {},
   "outputs": [],
   "source": [
    "%%bash\n",
    "install -d ~/.ansible/roles\n",
    "git clone git@github.com:computate-org/computate_project.git ~/.ansible/roles/computate.computate_project\n",
    "echo DONE"
   ]
  },
  {
   "cell_type": "code",
   "execution_count": null,
   "id": "354b35b8-213b-4151-a9b0-a2fba25ee86e",
   "metadata": {
    "tags": []
   },
   "outputs": [],
   "source": [
    "%%bash\n",
    "#ansible-playbook ~/.ansible/roles/computate.computate_project/install.yml -e SITE_NAME=computate-search -e ENABLE_CODE_GENERATION_SERVICE=true -e SYSTEMD_ENABLED=false -e SITE_PREFIX=/opt/app-root/src\n",
    "(cd ~/computate && env JAVA_HOME=/usr/lib/jvm/java-11-openjdk mvn clean install)\n",
    "echo DONE"
   ]
  },
  {
   "cell_type": "code",
   "execution_count": null,
   "id": "eff18d30-1f7b-4503-8358-e140ab9aaffb",
   "metadata": {
    "tags": []
   },
   "outputs": [],
   "source": [
    "%%bash\n",
    "ansible-playbook ~/.ansible/roles/computate.computate_project/install.yml \\\n",
    "  -e SITE_NAME=computate-search \\\n",
    "  -e SYSTEMD_ENABLED=false \\\n",
    "  -e SITE_PREFIX=/opt/app-root/src \\\n",
    "  -e SOLR_HOST_NAME=solr \\\n",
    "  -e SOLR_PORT=8983 \\\n",
    "  -e SOLR_SSL=false \\\n",
    "  -e SOLR_URL=\"http://solr:8983/solr/computate-search\" \\\n",
    "  -e SOLR_URL_COMPUTATE=\"http://solr:8983/solr/computate\" \\\n",
    "  -e POSTGRES_NAMESPACE=$(cat /var/run/secrets/kubernetes.io/serviceaccount/namespace) \\\n",
    "  -e ZOOKEEPER_NAMESPACE=$(cat /var/run/secrets/kubernetes.io/serviceaccount/namespace) \\\n",
    "  -e SOLR_NAMESPACE=$(cat /var/run/secrets/kubernetes.io/serviceaccount/namespace)\n",
    "echo DONE"
   ]
  },
  {
   "cell_type": "code",
   "execution_count": null,
   "id": "237dab0c-ac5f-432a-9ae4-e12839655ffd",
   "metadata": {},
   "outputs": [],
   "source": [
    "%%bash\n",
    "env SITE_NAME=computate-search \\\n",
    "  SITE_PATH=$HOME/computate-search \\\n",
    "  COMPUTATE_SRC=$HOME/computate \\\n",
    "  SITE_LANG=enUS \\\n",
    "  ~/computate/bin/enUS/index.sh\n",
    "echo DONE"
   ]
  },
  {
   "cell_type": "code",
   "execution_count": null,
   "id": "07b88d5d-86f9-4ecd-b755-5f6fdfdcdd0e",
   "metadata": {
    "tags": []
   },
   "outputs": [],
   "source": [
    "%%bash\n",
    "ansible-playbook ~/.ansible/roles/computate.computate_project/install.yml \\\n",
    "  -e SITE_NAME=computate-vertx \\\n",
    "  -e SYSTEMD_ENABLED=false \\\n",
    "  -e SITE_PREFIX=/opt/app-root/src \\\n",
    "  -e SOLR_HOST_NAME=solr \\\n",
    "  -e SOLR_PORT=8983 \\\n",
    "  -e SOLR_SSL=false \\\n",
    "  -e SOLR_URL=\"http://solr:8983/solr/computate-vertx\" \\\n",
    "  -e SOLR_URL_COMPUTATE=\"http://solr:8983/solr/computate\" \\\n",
    "  -e POSTGRES_NAMESPACE=$(cat /var/run/secrets/kubernetes.io/serviceaccount/namespace) \\\n",
    "  -e ZOOKEEPER_NAMESPACE=$(cat /var/run/secrets/kubernetes.io/serviceaccount/namespace) \\\n",
    "  -e SOLR_NAMESPACE=$(cat /var/run/secrets/kubernetes.io/serviceaccount/namespace)\n",
    "echo DONE"
   ]
  },
  {
   "cell_type": "code",
   "execution_count": null,
   "id": "5553d8bd-5e9c-45d5-8993-3c71f18fd9a7",
   "metadata": {},
   "outputs": [],
   "source": [
    "%%bash\n",
    "env SITE_NAME=computate-vertx \\\n",
    "  SITE_PATH=$HOME/computate-vertx \\\n",
    "  COMPUTATE_SRC=$HOME/computate \\\n",
    "  SITE_LANG=enUS \\\n",
    "  ~/computate/bin/enUS/index.sh\n",
    "echo DONE"
   ]
  },
  {
   "cell_type": "code",
   "execution_count": null,
   "id": "be865113-6e75-46cc-a2cf-e4a2c6e4cfa5",
   "metadata": {
    "tags": []
   },
   "outputs": [],
   "source": [
    "%%bash\n",
    "ansible-playbook ~/.ansible/roles/computate.computate_project/install.yml \\\n",
    "  -e SITE_NAME=smartvillage-platform \\\n",
    "  -e SYSTEMD_ENABLED=false \\\n",
    "  -e SITE_PREFIX=/opt/app-root/src \\\n",
    "  -e SOLR_HOST_NAME=solr \\\n",
    "  -e SOLR_PORT=8983 \\\n",
    "  -e SOLR_SSL=false \\\n",
    "  -e SOLR_URL=\"http://solr:8983/solr/smartvillage-platform\" \\\n",
    "  -e SOLR_URL_COMPUTATE=\"http://solr:8983/solr/computate\" \\\n",
    "  -e POSTGRES_NAMESPACE=$(cat /var/run/secrets/kubernetes.io/serviceaccount/namespace) \\\n",
    "  -e ZOOKEEPER_NAMESPACE=$(cat /var/run/secrets/kubernetes.io/serviceaccount/namespace) \\\n",
    "  -e SOLR_NAMESPACE=$(cat /var/run/secrets/kubernetes.io/serviceaccount/namespace)\n",
    "echo DONE"
   ]
  },
  {
   "cell_type": "code",
   "execution_count": null,
   "id": "52ab0585-f3ea-44a3-bb05-1d187b549d80",
   "metadata": {},
   "outputs": [],
   "source": [
    "%%bash\n",
    "env SITE_NAME=smartvillage-platform \\\n",
    "  SITE_PATH=$HOME/smartvillage-platform \\\n",
    "  COMPUTATE_SRC=$HOME/computate \\\n",
    "  SITE_LANG=enUS \\\n",
    "  ~/computate/bin/enUS/index.sh\n",
    "echo DONE"
   ]
  },
  {
   "cell_type": "code",
   "execution_count": 10,
   "id": "3ef1e9fe-0b29-4613-b2d7-6e990e81491c",
   "metadata": {
    "tags": []
   },
   "outputs": [
    {
     "name": "stderr",
     "output_type": "stream",
     "text": [
      "[WARNING]: No inventory was parsed, only implicit localhost is available\n",
      "[WARNING]: provided hosts list is empty, only localhost is available. Note that\n",
      "the implicit localhost does not match 'all'\n",
      "[WARNING]: Collection kubernetes.core does not support Ansible version 2.13.13\n"
     ]
    },
    {
     "name": "stdout",
     "output_type": "stream",
     "text": [
      "\n",
      "PLAY [Install the project locally] *********************************************\n",
      "\n",
      "TASK [Gathering Facts] *********************************************************\n",
      "ok: [localhost]\n",
      "\n",
      "TASK [computate.computate_project : Include default variables in /opt/app-root/src/smartabyar-smartvillage/local/defaults.yml] ***\n"
     ]
    },
    {
     "name": "stderr",
     "output_type": "stream",
     "text": [
      "[WARNING]: While constructing a mapping from /opt/app-root/src/smartabyar-\n",
      "smartvillage/local/defaults.yml, line 2, column 1, found a duplicate dict key\n",
      "(AUTH_ROLE_ADMIN). Using last defined value only.\n"
     ]
    },
    {
     "name": "stdout",
     "output_type": "stream",
     "text": [
      "ok: [localhost]\n",
      "\n",
      "TASK [computate.computate_project : Install dependencies as root: java-17-openjdk] ***\n",
      "fatal: [localhost]: FAILED! => {\"changed\": false, \"module_stderr\": \"/bin/sh: sudo: command not found\\n\", \"module_stdout\": \"\", \"msg\": \"MODULE FAILURE\\nSee stdout/stderr for the exact error\", \"rc\": 127}\n",
      "...ignoring\n",
      "\n",
      "TASK [computate.computate_project : Install dependencies as user: java-17-openjdk] ***\n",
      "changed: [localhost] => (item=java-17-openjdk)\n",
      "\n",
      "TASK [computate.computate_project : Check if git binary exists] ****************\n",
      "ok: [localhost]\n",
      "\n",
      "TASK [computate.computate_project : Check if javac binary exists] **************\n",
      "ok: [localhost]\n",
      "\n",
      "TASK [computate.computate_project : Check for the smartabyar-smartvillage .git directory] ***\n",
      "ok: [localhost]\n",
      "\n",
      "TASK [computate.computate_project : Check for the smartabyar-smartvillage README.md file] ***\n",
      "ok: [localhost]\n",
      "\n",
      "TASK [computate.computate_project : Create the smartabyar-smartvillage source directory /opt/app-root/src/smartabyar-smartvillage] ***\n",
      "skipping: [localhost]\n",
      "\n",
      "TASK [computate.computate_project : Clone the git@github.com:computate-org/smartabyar-smartvillage.git source code into /opt/app-root/src/smartabyar-smartvillage] ***\n",
      "skipping: [localhost]\n",
      "\n",
      "TASK [computate.computate_project : Check for the smartabyar-smartvillage-static .git directory] ***\n",
      "ok: [localhost]\n",
      "\n",
      "TASK [computate.computate_project : Create the smartabyar-smartvillage-static source directory /opt/app-root/src/smartabyar-smartvillage-static] ***\n",
      "ok: [localhost]\n",
      "\n",
      "TASK [computate.computate_project : Clone the git@github.com:computate-org/smartabyar-smartvillage-static.git source code into /opt/app-root/src/smartabyar-smartvillage-static] ***\n",
      "fatal: [localhost]: FAILED! => {\"changed\": false, \"cmd\": \"/usr/bin/git clone --origin origin git@github.com:computate-org/smartabyar-smartvillage-static.git /opt/app-root/src/smartabyar-smartvillage-static\", \"msg\": \"fatal: destination path '/opt/app-root/src/smartabyar-smartvillage-static' already exists and is not an empty directory.\", \"rc\": 128, \"stderr\": \"fatal: destination path '/opt/app-root/src/smartabyar-smartvillage-static' already exists and is not an empty directory.\\n\", \"stderr_lines\": [\"fatal: destination path '/opt/app-root/src/smartabyar-smartvillage-static' already exists and is not an empty directory.\"], \"stdout\": \"\", \"stdout_lines\": []}\n",
      "...ignoring\n",
      "\n",
      "TASK [computate.computate_project : Create the project file directory /opt/app-root/src/.metadata/.plugins/org.eclipse.debug.core/.launches] ***\n",
      "ok: [localhost]\n",
      "\n",
      "TASK [computate.computate_project : Create the /opt/app-root/src/.metadata/.plugins/org.eclipse.debug.core/.launches/smartabyar-smartvillage.launch] ***\n",
      "ok: [localhost]\n",
      "\n",
      "TASK [computate.computate_project : Create the /opt/app-root/src/.metadata/.plugins/org.eclipse.debug.core/.launches/smartabyar-smartvillage-OpenApi3Generator.launch] ***\n",
      "ok: [localhost]\n",
      "\n",
      "TASK [computate.computate_project : Create the smartabyar-smartvillage systemd services.] ***\n",
      "skipping: [localhost] => (item={'SITE_NAME': 'smartabyar-smartvillage', 'SITE_SRC': '/opt/app-root/src/smartabyar-smartvillage'}) \n",
      "\n",
      "TASK [computate.computate_project : Create the {{ item.SITE_NAME }} config dirs.] ***\n",
      "ok: [localhost] => (item={'SITE_NAME': 'smartabyar-smartvillage', 'SITE_SRC': '/opt/app-root/src/smartabyar-smartvillage'})\n",
      "\n",
      "TASK [computate.computate_project : Set some facts] ****************************\n",
      "ok: [localhost]\n",
      "\n",
      "TASK [computate.computate_project : Get JDBC_PASSWORD] *************************\n"
     ]
    },
    {
     "name": "stderr",
     "output_type": "stream",
     "text": [
      "/opt/app-root/lib64/python3.8/site-packages/urllib3/connectionpool.py:1045: InsecureRequestWarning: Unverified HTTPS request is being made to host '172.30.0.1'. Adding certificate verification is strongly advised. See: https://urllib3.readthedocs.io/en/1.26.x/advanced-usage.html#ssl-warnings\n",
      "  warnings.warn(\n"
     ]
    },
    {
     "name": "stdout",
     "output_type": "stream",
     "text": [
      "ok: [localhost]\n",
      "\n",
      "TASK [computate.computate_project : Get KAFKA_SSL_KEYSTORE_PASSWORD] ***********\n"
     ]
    },
    {
     "name": "stderr",
     "output_type": "stream",
     "text": [
      "/opt/app-root/lib64/python3.8/site-packages/urllib3/connectionpool.py:1045: InsecureRequestWarning: Unverified HTTPS request is being made to host '172.30.0.1'. Adding certificate verification is strongly advised. See: https://urllib3.readthedocs.io/en/1.26.x/advanced-usage.html#ssl-warnings\n",
      "  warnings.warn(\n"
     ]
    },
    {
     "name": "stdout",
     "output_type": "stream",
     "text": [
      "fatal: [localhost]: FAILED! => {\"msg\": \"An unhandled exception occurred while running the lookup plugin 'kubernetes.core.k8s'. Error was a <class 'kubernetes.dynamic.exceptions.ForbiddenError'>, original message: 403\\nReason: Forbidden\\nHTTP response headers: HTTPHeaderDict({'Audit-Id': '253612c9-d1ea-4a0d-be7f-4564153f803f', 'Cache-Control': 'no-cache, private', 'Content-Type': 'application/json', 'Strict-Transport-Security': 'max-age=31536000; includeSubDomains; preload', 'X-Content-Type-Options': 'nosniff', 'X-Kubernetes-Pf-Flowschema-Uid': 'f3ad567a-a1a6-4c0b-b17f-f0f454f56405', 'X-Kubernetes-Pf-Prioritylevel-Uid': '7210cd52-aeaa-4119-88e3-50af3727e914', 'Date': 'Wed, 17 Jan 2024 21:00:20 GMT', 'Content-Length': '350'})\\nHTTP response body: b'{\\\"kind\\\":\\\"Status\\\",\\\"apiVersion\\\":\\\"v1\\\",\\\"metadata\\\":{},\\\"status\\\":\\\"Failure\\\",\\\"message\\\":\\\"secrets \\\\\\\\\\\"smartvillage-kafka\\\\\\\\\\\" is forbidden: User \\\\\\\\\\\"system:serviceaccount:smart-village-faeeb6c:sumo\\\\\\\\\\\" cannot get resource \\\\\\\\\\\"secrets\\\\\\\\\\\" in API group \\\\\\\\\\\"\\\\\\\\\\\" in the namespace \\\\\\\\\\\"kafka\\\\\\\\\\\"\\\",\\\"reason\\\":\\\"Forbidden\\\",\\\"details\\\":{\\\"name\\\":\\\"smartvillage-kafka\\\",\\\"kind\\\":\\\"secrets\\\"},\\\"code\\\":403}\\\\n'\\nOriginal traceback: \\n  File \\\"/opt/app-root/lib64/python3.8/site-packages/kubernetes/dynamic/client.py\\\", line 55, in inner\\n    resp = func(self, *args, **kwargs)\\n\\n  File \\\"/opt/app-root/lib64/python3.8/site-packages/kubernetes/dynamic/client.py\\\", line 237, in request\\n    return self.client.call_api(\\n\\n  File \\\"/opt/app-root/lib64/python3.8/site-packages/kubernetes/client/api_client.py\\\", line 348, in call_api\\n    return self.__call_api(resource_path, method,\\n\\n  File \\\"/opt/app-root/lib64/python3.8/site-packages/kubernetes/client/api_client.py\\\", line 180, in __call_api\\n    response_data = self.request(\\n\\n  File \\\"/opt/app-root/lib64/python3.8/site-packages/kubernetes/client/api_client.py\\\", line 373, in request\\n    return self.rest_client.GET(url,\\n\\n  File \\\"/opt/app-root/lib64/python3.8/site-packages/kubernetes/client/rest.py\\\", line 239, in GET\\n    return self.request(\\\"GET\\\", url,\\n\\n  File \\\"/opt/app-root/lib64/python3.8/site-packages/kubernetes/client/rest.py\\\", line 233, in request\\n    raise ApiException(http_resp=r)\\n. 403\\nReason: Forbidden\\nHTTP response headers: HTTPHeaderDict({'Audit-Id': '253612c9-d1ea-4a0d-be7f-4564153f803f', 'Cache-Control': 'no-cache, private', 'Content-Type': 'application/json', 'Strict-Transport-Security': 'max-age=31536000; includeSubDomains; preload', 'X-Content-Type-Options': 'nosniff', 'X-Kubernetes-Pf-Flowschema-Uid': 'f3ad567a-a1a6-4c0b-b17f-f0f454f56405', 'X-Kubernetes-Pf-Prioritylevel-Uid': '7210cd52-aeaa-4119-88e3-50af3727e914', 'Date': 'Wed, 17 Jan 2024 21:00:20 GMT', 'Content-Length': '350'})\\nHTTP response body: b'{\\\"kind\\\":\\\"Status\\\",\\\"apiVersion\\\":\\\"v1\\\",\\\"metadata\\\":{},\\\"status\\\":\\\"Failure\\\",\\\"message\\\":\\\"secrets \\\\\\\\\\\"smartvillage-kafka\\\\\\\\\\\" is forbidden: User \\\\\\\\\\\"system:serviceaccount:smart-village-faeeb6c:sumo\\\\\\\\\\\" cannot get resource \\\\\\\\\\\"secrets\\\\\\\\\\\" in API group \\\\\\\\\\\"\\\\\\\\\\\" in the namespace \\\\\\\\\\\"kafka\\\\\\\\\\\"\\\",\\\"reason\\\":\\\"Forbidden\\\",\\\"details\\\":{\\\"name\\\":\\\"smartvillage-kafka\\\",\\\"kind\\\":\\\"secrets\\\"},\\\"code\\\":403}\\\\n'\\nOriginal traceback: \\n  File \\\"/opt/app-root/lib64/python3.8/site-packages/kubernetes/dynamic/client.py\\\", line 55, in inner\\n    resp = func(self, *args, **kwargs)\\n\\n  File \\\"/opt/app-root/lib64/python3.8/site-packages/kubernetes/dynamic/client.py\\\", line 237, in request\\n    return self.client.call_api(\\n\\n  File \\\"/opt/app-root/lib64/python3.8/site-packages/kubernetes/client/api_client.py\\\", line 348, in call_api\\n    return self.__call_api(resource_path, method,\\n\\n  File \\\"/opt/app-root/lib64/python3.8/site-packages/kubernetes/client/api_client.py\\\", line 180, in __call_api\\n    response_data = self.request(\\n\\n  File \\\"/opt/app-root/lib64/python3.8/site-packages/kubernetes/client/api_client.py\\\", line 373, in request\\n    return self.rest_client.GET(url,\\n\\n  File \\\"/opt/app-root/lib64/python3.8/site-packages/kubernetes/client/rest.py\\\", line 239, in GET\\n    return self.request(\\\"GET\\\", url,\\n\\n  File \\\"/opt/app-root/lib64/python3.8/site-packages/kubernetes/client/rest.py\\\", line 233, in request\\n    raise ApiException(http_resp=r)\\n\"}\n",
      "...ignoring\n",
      "\n",
      "TASK [computate.computate_project : Get KAFKA_SSL_KEYSTORE_P12] ****************\n"
     ]
    },
    {
     "name": "stderr",
     "output_type": "stream",
     "text": [
      "/opt/app-root/lib64/python3.8/site-packages/urllib3/connectionpool.py:1045: InsecureRequestWarning: Unverified HTTPS request is being made to host '172.30.0.1'. Adding certificate verification is strongly advised. See: https://urllib3.readthedocs.io/en/1.26.x/advanced-usage.html#ssl-warnings\n",
      "  warnings.warn(\n"
     ]
    },
    {
     "name": "stdout",
     "output_type": "stream",
     "text": [
      "fatal: [localhost]: FAILED! => {\"msg\": \"An unhandled exception occurred while running the lookup plugin 'kubernetes.core.k8s'. Error was a <class 'kubernetes.dynamic.exceptions.ForbiddenError'>, original message: 403\\nReason: Forbidden\\nHTTP response headers: HTTPHeaderDict({'Audit-Id': '96b09eb3-0901-4577-8efd-7b74a03e238d', 'Cache-Control': 'no-cache, private', 'Content-Type': 'application/json', 'Strict-Transport-Security': 'max-age=31536000; includeSubDomains; preload', 'X-Content-Type-Options': 'nosniff', 'X-Kubernetes-Pf-Flowschema-Uid': 'f3ad567a-a1a6-4c0b-b17f-f0f454f56405', 'X-Kubernetes-Pf-Prioritylevel-Uid': '7210cd52-aeaa-4119-88e3-50af3727e914', 'Date': 'Wed, 17 Jan 2024 21:00:20 GMT', 'Content-Length': '350'})\\nHTTP response body: b'{\\\"kind\\\":\\\"Status\\\",\\\"apiVersion\\\":\\\"v1\\\",\\\"metadata\\\":{},\\\"status\\\":\\\"Failure\\\",\\\"message\\\":\\\"secrets \\\\\\\\\\\"smartvillage-kafka\\\\\\\\\\\" is forbidden: User \\\\\\\\\\\"system:serviceaccount:smart-village-faeeb6c:sumo\\\\\\\\\\\" cannot get resource \\\\\\\\\\\"secrets\\\\\\\\\\\" in API group \\\\\\\\\\\"\\\\\\\\\\\" in the namespace \\\\\\\\\\\"kafka\\\\\\\\\\\"\\\",\\\"reason\\\":\\\"Forbidden\\\",\\\"details\\\":{\\\"name\\\":\\\"smartvillage-kafka\\\",\\\"kind\\\":\\\"secrets\\\"},\\\"code\\\":403}\\\\n'\\nOriginal traceback: \\n  File \\\"/opt/app-root/lib64/python3.8/site-packages/kubernetes/dynamic/client.py\\\", line 55, in inner\\n    resp = func(self, *args, **kwargs)\\n\\n  File \\\"/opt/app-root/lib64/python3.8/site-packages/kubernetes/dynamic/client.py\\\", line 237, in request\\n    return self.client.call_api(\\n\\n  File \\\"/opt/app-root/lib64/python3.8/site-packages/kubernetes/client/api_client.py\\\", line 348, in call_api\\n    return self.__call_api(resource_path, method,\\n\\n  File \\\"/opt/app-root/lib64/python3.8/site-packages/kubernetes/client/api_client.py\\\", line 180, in __call_api\\n    response_data = self.request(\\n\\n  File \\\"/opt/app-root/lib64/python3.8/site-packages/kubernetes/client/api_client.py\\\", line 373, in request\\n    return self.rest_client.GET(url,\\n\\n  File \\\"/opt/app-root/lib64/python3.8/site-packages/kubernetes/client/rest.py\\\", line 239, in GET\\n    return self.request(\\\"GET\\\", url,\\n\\n  File \\\"/opt/app-root/lib64/python3.8/site-packages/kubernetes/client/rest.py\\\", line 233, in request\\n    raise ApiException(http_resp=r)\\n. 403\\nReason: Forbidden\\nHTTP response headers: HTTPHeaderDict({'Audit-Id': '96b09eb3-0901-4577-8efd-7b74a03e238d', 'Cache-Control': 'no-cache, private', 'Content-Type': 'application/json', 'Strict-Transport-Security': 'max-age=31536000; includeSubDomains; preload', 'X-Content-Type-Options': 'nosniff', 'X-Kubernetes-Pf-Flowschema-Uid': 'f3ad567a-a1a6-4c0b-b17f-f0f454f56405', 'X-Kubernetes-Pf-Prioritylevel-Uid': '7210cd52-aeaa-4119-88e3-50af3727e914', 'Date': 'Wed, 17 Jan 2024 21:00:20 GMT', 'Content-Length': '350'})\\nHTTP response body: b'{\\\"kind\\\":\\\"Status\\\",\\\"apiVersion\\\":\\\"v1\\\",\\\"metadata\\\":{},\\\"status\\\":\\\"Failure\\\",\\\"message\\\":\\\"secrets \\\\\\\\\\\"smartvillage-kafka\\\\\\\\\\\" is forbidden: User \\\\\\\\\\\"system:serviceaccount:smart-village-faeeb6c:sumo\\\\\\\\\\\" cannot get resource \\\\\\\\\\\"secrets\\\\\\\\\\\" in API group \\\\\\\\\\\"\\\\\\\\\\\" in the namespace \\\\\\\\\\\"kafka\\\\\\\\\\\"\\\",\\\"reason\\\":\\\"Forbidden\\\",\\\"details\\\":{\\\"name\\\":\\\"smartvillage-kafka\\\",\\\"kind\\\":\\\"secrets\\\"},\\\"code\\\":403}\\\\n'\\nOriginal traceback: \\n  File \\\"/opt/app-root/lib64/python3.8/site-packages/kubernetes/dynamic/client.py\\\", line 55, in inner\\n    resp = func(self, *args, **kwargs)\\n\\n  File \\\"/opt/app-root/lib64/python3.8/site-packages/kubernetes/dynamic/client.py\\\", line 237, in request\\n    return self.client.call_api(\\n\\n  File \\\"/opt/app-root/lib64/python3.8/site-packages/kubernetes/client/api_client.py\\\", line 348, in call_api\\n    return self.__call_api(resource_path, method,\\n\\n  File \\\"/opt/app-root/lib64/python3.8/site-packages/kubernetes/client/api_client.py\\\", line 180, in __call_api\\n    response_data = self.request(\\n\\n  File \\\"/opt/app-root/lib64/python3.8/site-packages/kubernetes/client/api_client.py\\\", line 373, in request\\n    return self.rest_client.GET(url,\\n\\n  File \\\"/opt/app-root/lib64/python3.8/site-packages/kubernetes/client/rest.py\\\", line 239, in GET\\n    return self.request(\\\"GET\\\", url,\\n\\n  File \\\"/opt/app-root/lib64/python3.8/site-packages/kubernetes/client/rest.py\\\", line 233, in request\\n    raise ApiException(http_resp=r)\\n\"}\n",
      "...ignoring\n",
      "\n",
      "TASK [computate.computate_project : Get KAFKA_SSL_TRUSTSTORE_PASSWORD] *********\n"
     ]
    },
    {
     "name": "stderr",
     "output_type": "stream",
     "text": [
      "/opt/app-root/lib64/python3.8/site-packages/urllib3/connectionpool.py:1045: InsecureRequestWarning: Unverified HTTPS request is being made to host '172.30.0.1'. Adding certificate verification is strongly advised. See: https://urllib3.readthedocs.io/en/1.26.x/advanced-usage.html#ssl-warnings\n",
      "  warnings.warn(\n"
     ]
    },
    {
     "name": "stdout",
     "output_type": "stream",
     "text": [
      "fatal: [localhost]: FAILED! => {\"msg\": \"An unhandled exception occurred while running the lookup plugin 'kubernetes.core.k8s'. Error was a <class 'kubernetes.dynamic.exceptions.ForbiddenError'>, original message: 403\\nReason: Forbidden\\nHTTP response headers: HTTPHeaderDict({'Audit-Id': 'a8f5e0e5-ef73-4a3e-8bc2-e80aa45b543b', 'Cache-Control': 'no-cache, private', 'Content-Type': 'application/json', 'Strict-Transport-Security': 'max-age=31536000; includeSubDomains; preload', 'X-Content-Type-Options': 'nosniff', 'X-Kubernetes-Pf-Flowschema-Uid': 'f3ad567a-a1a6-4c0b-b17f-f0f454f56405', 'X-Kubernetes-Pf-Prioritylevel-Uid': '7210cd52-aeaa-4119-88e3-50af3727e914', 'Date': 'Wed, 17 Jan 2024 21:00:21 GMT', 'Content-Length': '360'})\\nHTTP response body: b'{\\\"kind\\\":\\\"Status\\\",\\\"apiVersion\\\":\\\"v1\\\",\\\"metadata\\\":{},\\\"status\\\":\\\"Failure\\\",\\\"message\\\":\\\"secrets \\\\\\\\\\\"default-cluster-ca-cert\\\\\\\\\\\" is forbidden: User \\\\\\\\\\\"system:serviceaccount:smart-village-faeeb6c:sumo\\\\\\\\\\\" cannot get resource \\\\\\\\\\\"secrets\\\\\\\\\\\" in API group \\\\\\\\\\\"\\\\\\\\\\\" in the namespace \\\\\\\\\\\"kafka\\\\\\\\\\\"\\\",\\\"reason\\\":\\\"Forbidden\\\",\\\"details\\\":{\\\"name\\\":\\\"default-cluster-ca-cert\\\",\\\"kind\\\":\\\"secrets\\\"},\\\"code\\\":403}\\\\n'\\nOriginal traceback: \\n  File \\\"/opt/app-root/lib64/python3.8/site-packages/kubernetes/dynamic/client.py\\\", line 55, in inner\\n    resp = func(self, *args, **kwargs)\\n\\n  File \\\"/opt/app-root/lib64/python3.8/site-packages/kubernetes/dynamic/client.py\\\", line 237, in request\\n    return self.client.call_api(\\n\\n  File \\\"/opt/app-root/lib64/python3.8/site-packages/kubernetes/client/api_client.py\\\", line 348, in call_api\\n    return self.__call_api(resource_path, method,\\n\\n  File \\\"/opt/app-root/lib64/python3.8/site-packages/kubernetes/client/api_client.py\\\", line 180, in __call_api\\n    response_data = self.request(\\n\\n  File \\\"/opt/app-root/lib64/python3.8/site-packages/kubernetes/client/api_client.py\\\", line 373, in request\\n    return self.rest_client.GET(url,\\n\\n  File \\\"/opt/app-root/lib64/python3.8/site-packages/kubernetes/client/rest.py\\\", line 239, in GET\\n    return self.request(\\\"GET\\\", url,\\n\\n  File \\\"/opt/app-root/lib64/python3.8/site-packages/kubernetes/client/rest.py\\\", line 233, in request\\n    raise ApiException(http_resp=r)\\n. 403\\nReason: Forbidden\\nHTTP response headers: HTTPHeaderDict({'Audit-Id': 'a8f5e0e5-ef73-4a3e-8bc2-e80aa45b543b', 'Cache-Control': 'no-cache, private', 'Content-Type': 'application/json', 'Strict-Transport-Security': 'max-age=31536000; includeSubDomains; preload', 'X-Content-Type-Options': 'nosniff', 'X-Kubernetes-Pf-Flowschema-Uid': 'f3ad567a-a1a6-4c0b-b17f-f0f454f56405', 'X-Kubernetes-Pf-Prioritylevel-Uid': '7210cd52-aeaa-4119-88e3-50af3727e914', 'Date': 'Wed, 17 Jan 2024 21:00:21 GMT', 'Content-Length': '360'})\\nHTTP response body: b'{\\\"kind\\\":\\\"Status\\\",\\\"apiVersion\\\":\\\"v1\\\",\\\"metadata\\\":{},\\\"status\\\":\\\"Failure\\\",\\\"message\\\":\\\"secrets \\\\\\\\\\\"default-cluster-ca-cert\\\\\\\\\\\" is forbidden: User \\\\\\\\\\\"system:serviceaccount:smart-village-faeeb6c:sumo\\\\\\\\\\\" cannot get resource \\\\\\\\\\\"secrets\\\\\\\\\\\" in API group \\\\\\\\\\\"\\\\\\\\\\\" in the namespace \\\\\\\\\\\"kafka\\\\\\\\\\\"\\\",\\\"reason\\\":\\\"Forbidden\\\",\\\"details\\\":{\\\"name\\\":\\\"default-cluster-ca-cert\\\",\\\"kind\\\":\\\"secrets\\\"},\\\"code\\\":403}\\\\n'\\nOriginal traceback: \\n  File \\\"/opt/app-root/lib64/python3.8/site-packages/kubernetes/dynamic/client.py\\\", line 55, in inner\\n    resp = func(self, *args, **kwargs)\\n\\n  File \\\"/opt/app-root/lib64/python3.8/site-packages/kubernetes/dynamic/client.py\\\", line 237, in request\\n    return self.client.call_api(\\n\\n  File \\\"/opt/app-root/lib64/python3.8/site-packages/kubernetes/client/api_client.py\\\", line 348, in call_api\\n    return self.__call_api(resource_path, method,\\n\\n  File \\\"/opt/app-root/lib64/python3.8/site-packages/kubernetes/client/api_client.py\\\", line 180, in __call_api\\n    response_data = self.request(\\n\\n  File \\\"/opt/app-root/lib64/python3.8/site-packages/kubernetes/client/api_client.py\\\", line 373, in request\\n    return self.rest_client.GET(url,\\n\\n  File \\\"/opt/app-root/lib64/python3.8/site-packages/kubernetes/client/rest.py\\\", line 239, in GET\\n    return self.request(\\\"GET\\\", url,\\n\\n  File \\\"/opt/app-root/lib64/python3.8/site-packages/kubernetes/client/rest.py\\\", line 233, in request\\n    raise ApiException(http_resp=r)\\n\"}\n",
      "...ignoring\n",
      "\n",
      "TASK [computate.computate_project : Get KAFKA_SSL_TRUSTSTORE_P12] **************\n"
     ]
    },
    {
     "name": "stderr",
     "output_type": "stream",
     "text": [
      "/opt/app-root/lib64/python3.8/site-packages/urllib3/connectionpool.py:1045: InsecureRequestWarning: Unverified HTTPS request is being made to host '172.30.0.1'. Adding certificate verification is strongly advised. See: https://urllib3.readthedocs.io/en/1.26.x/advanced-usage.html#ssl-warnings\n",
      "  warnings.warn(\n"
     ]
    },
    {
     "name": "stdout",
     "output_type": "stream",
     "text": [
      "fatal: [localhost]: FAILED! => {\"msg\": \"An unhandled exception occurred while running the lookup plugin 'kubernetes.core.k8s'. Error was a <class 'kubernetes.dynamic.exceptions.ForbiddenError'>, original message: 403\\nReason: Forbidden\\nHTTP response headers: HTTPHeaderDict({'Audit-Id': 'af3908bc-6717-44f1-be31-8e883a78ad58', 'Cache-Control': 'no-cache, private', 'Content-Type': 'application/json', 'Strict-Transport-Security': 'max-age=31536000; includeSubDomains; preload', 'X-Content-Type-Options': 'nosniff', 'X-Kubernetes-Pf-Flowschema-Uid': 'f3ad567a-a1a6-4c0b-b17f-f0f454f56405', 'X-Kubernetes-Pf-Prioritylevel-Uid': '7210cd52-aeaa-4119-88e3-50af3727e914', 'Date': 'Wed, 17 Jan 2024 21:00:21 GMT', 'Content-Length': '360'})\\nHTTP response body: b'{\\\"kind\\\":\\\"Status\\\",\\\"apiVersion\\\":\\\"v1\\\",\\\"metadata\\\":{},\\\"status\\\":\\\"Failure\\\",\\\"message\\\":\\\"secrets \\\\\\\\\\\"default-cluster-ca-cert\\\\\\\\\\\" is forbidden: User \\\\\\\\\\\"system:serviceaccount:smart-village-faeeb6c:sumo\\\\\\\\\\\" cannot get resource \\\\\\\\\\\"secrets\\\\\\\\\\\" in API group \\\\\\\\\\\"\\\\\\\\\\\" in the namespace \\\\\\\\\\\"kafka\\\\\\\\\\\"\\\",\\\"reason\\\":\\\"Forbidden\\\",\\\"details\\\":{\\\"name\\\":\\\"default-cluster-ca-cert\\\",\\\"kind\\\":\\\"secrets\\\"},\\\"code\\\":403}\\\\n'\\nOriginal traceback: \\n  File \\\"/opt/app-root/lib64/python3.8/site-packages/kubernetes/dynamic/client.py\\\", line 55, in inner\\n    resp = func(self, *args, **kwargs)\\n\\n  File \\\"/opt/app-root/lib64/python3.8/site-packages/kubernetes/dynamic/client.py\\\", line 237, in request\\n    return self.client.call_api(\\n\\n  File \\\"/opt/app-root/lib64/python3.8/site-packages/kubernetes/client/api_client.py\\\", line 348, in call_api\\n    return self.__call_api(resource_path, method,\\n\\n  File \\\"/opt/app-root/lib64/python3.8/site-packages/kubernetes/client/api_client.py\\\", line 180, in __call_api\\n    response_data = self.request(\\n\\n  File \\\"/opt/app-root/lib64/python3.8/site-packages/kubernetes/client/api_client.py\\\", line 373, in request\\n    return self.rest_client.GET(url,\\n\\n  File \\\"/opt/app-root/lib64/python3.8/site-packages/kubernetes/client/rest.py\\\", line 239, in GET\\n    return self.request(\\\"GET\\\", url,\\n\\n  File \\\"/opt/app-root/lib64/python3.8/site-packages/kubernetes/client/rest.py\\\", line 233, in request\\n    raise ApiException(http_resp=r)\\n. 403\\nReason: Forbidden\\nHTTP response headers: HTTPHeaderDict({'Audit-Id': 'af3908bc-6717-44f1-be31-8e883a78ad58', 'Cache-Control': 'no-cache, private', 'Content-Type': 'application/json', 'Strict-Transport-Security': 'max-age=31536000; includeSubDomains; preload', 'X-Content-Type-Options': 'nosniff', 'X-Kubernetes-Pf-Flowschema-Uid': 'f3ad567a-a1a6-4c0b-b17f-f0f454f56405', 'X-Kubernetes-Pf-Prioritylevel-Uid': '7210cd52-aeaa-4119-88e3-50af3727e914', 'Date': 'Wed, 17 Jan 2024 21:00:21 GMT', 'Content-Length': '360'})\\nHTTP response body: b'{\\\"kind\\\":\\\"Status\\\",\\\"apiVersion\\\":\\\"v1\\\",\\\"metadata\\\":{},\\\"status\\\":\\\"Failure\\\",\\\"message\\\":\\\"secrets \\\\\\\\\\\"default-cluster-ca-cert\\\\\\\\\\\" is forbidden: User \\\\\\\\\\\"system:serviceaccount:smart-village-faeeb6c:sumo\\\\\\\\\\\" cannot get resource \\\\\\\\\\\"secrets\\\\\\\\\\\" in API group \\\\\\\\\\\"\\\\\\\\\\\" in the namespace \\\\\\\\\\\"kafka\\\\\\\\\\\"\\\",\\\"reason\\\":\\\"Forbidden\\\",\\\"details\\\":{\\\"name\\\":\\\"default-cluster-ca-cert\\\",\\\"kind\\\":\\\"secrets\\\"},\\\"code\\\":403}\\\\n'\\nOriginal traceback: \\n  File \\\"/opt/app-root/lib64/python3.8/site-packages/kubernetes/dynamic/client.py\\\", line 55, in inner\\n    resp = func(self, *args, **kwargs)\\n\\n  File \\\"/opt/app-root/lib64/python3.8/site-packages/kubernetes/dynamic/client.py\\\", line 237, in request\\n    return self.client.call_api(\\n\\n  File \\\"/opt/app-root/lib64/python3.8/site-packages/kubernetes/client/api_client.py\\\", line 348, in call_api\\n    return self.__call_api(resource_path, method,\\n\\n  File \\\"/opt/app-root/lib64/python3.8/site-packages/kubernetes/client/api_client.py\\\", line 180, in __call_api\\n    response_data = self.request(\\n\\n  File \\\"/opt/app-root/lib64/python3.8/site-packages/kubernetes/client/api_client.py\\\", line 373, in request\\n    return self.rest_client.GET(url,\\n\\n  File \\\"/opt/app-root/lib64/python3.8/site-packages/kubernetes/client/rest.py\\\", line 239, in GET\\n    return self.request(\\\"GET\\\", url,\\n\\n  File \\\"/opt/app-root/lib64/python3.8/site-packages/kubernetes/client/rest.py\\\", line 233, in request\\n    raise ApiException(http_resp=r)\\n\"}\n",
      "...ignoring\n",
      "\n",
      "TASK [computate.computate_project : Write KAFKA_SSL_KEYSTORE_LOCATION] *********\n",
      "fatal: [localhost]: FAILED! => {\"msg\": \"The task includes an option with an undefined variable. The error was: 'KAFKA_SSL_KEYSTORE_P12' is undefined\\n\\nThe error appears to be in '/opt/app-root/src/.ansible/roles/computate.computate_project/tasks/main.yml': line 173, column 3, but may\\nbe elsewhere in the file depending on the exact syntax problem.\\n\\nThe offending line appears to be:\\n\\n\\n- name: Write KAFKA_SSL_KEYSTORE_LOCATION\\n  ^ here\\n\"}\n",
      "...ignoring\n",
      "\n",
      "TASK [computate.computate_project : Write KAFKA_SSL_TRUSTSTORE_LOCATION] *******\n",
      "fatal: [localhost]: FAILED! => {\"msg\": \"The task includes an option with an undefined variable. The error was: 'KAFKA_SSL_TRUSTSTORE_P12' is undefined\\n\\nThe error appears to be in '/opt/app-root/src/.ansible/roles/computate.computate_project/tasks/main.yml': line 178, column 3, but may\\nbe elsewhere in the file depending on the exact syntax problem.\\n\\nThe offending line appears to be:\\n\\n  ignore_errors: true\\n- name: Write KAFKA_SSL_TRUSTSTORE_LOCATION\\n  ^ here\\n\"}\n",
      "...ignoring\n",
      "\n",
      "TASK [computate.computate_project : Check if config exists] ********************\n",
      "ok: [localhost] => (item={'SITE_NAME': 'smartabyar-smartvillage', 'SITE_SRC': '/opt/app-root/src/smartabyar-smartvillage'})\n",
      "\n",
      "TASK [computate.computate_project : Create the {{ item.SITE_NAME }} enUS configs.] ***\n",
      "changed: [localhost] => (item={'SITE_NAME': 'smartabyar-smartvillage', 'SITE_SRC': '/opt/app-root/src/smartabyar-smartvillage'})\n",
      "\n",
      "TASK [computate.computate_project : Reload the services.] **********************\n",
      "skipping: [localhost] => (item={'SITE_NAME': 'smartabyar-smartvillage', 'SITE_SRC': '/opt/app-root/src/smartabyar-smartvillage'}) \n",
      "\n",
      "TASK [computate.computate_project : Start and enable the {{ item.SITE_NAME }} services.] ***\n",
      "skipping: [localhost] => (item={'SITE_NAME': 'smartabyar-smartvillage', 'SITE_SRC': '/opt/app-root/src/smartabyar-smartvillage'}) \n",
      "\n",
      "TASK [computate.computate_project : Create the smartabyar-smartvillage launchd service /opt/app-root/src/.config/systemd/user/watch-smartabyar-smartvillage.service.] ***\n",
      "skipping: [localhost] => (item={'SITE_NAME': 'smartabyar-smartvillage', 'SITE_SRC': '/opt/app-root/src/smartabyar-smartvillage'}) \n",
      "\n",
      "TASK [computate.computate_project : Load the smartabyar-smartvillage launchd service /opt/app-root/src/.config/systemd/user/watch-smartabyar-smartvillage.service.] ***\n",
      "skipping: [localhost]\n",
      "\n",
      "TASK [computate.computate_project : Start the smartabyar-smartvillage launchd service /opt/app-root/src/.config/systemd/user/watch-smartabyar-smartvillage.service.] ***\n",
      "skipping: [localhost]\n",
      "\n",
      "TASK [computate.computate_project : Output command to run without systemd] *****\n",
      "skipping: [localhost]\n",
      "\n",
      "TASK [computate.computate_project : Upload computate configset to solr] ********\n"
     ]
    },
    {
     "name": "stderr",
     "output_type": "stream",
     "text": [
      "[WARNING]: kubernetes<24.2.0 is not supported or tested. Some features may not\n",
      "work.\n",
      "[DEPRECATION WARNING]: The 'return_code' return key is being renamed to 'rc'. \n",
      "Both keys are being returned for now to allow users to migrate their \n",
      "automation. This feature will be removed from kubernetes.core in version 4.0.0.\n",
      " Deprecation warnings can be disabled by setting deprecation_warnings=False in \n",
      "ansible.cfg.\n"
     ]
    },
    {
     "name": "stdout",
     "output_type": "stream",
     "text": [
      "ok: [localhost]\n",
      "\n",
      "TASK [computate.computate_project : debug] *************************************\n",
      "ok: [localhost] => {\n",
      "    \"solr_upconfig\": {\n",
      "        \"changed\": false,\n",
      "        \"deprecations\": [\n",
      "            {\n",
      "                \"collection_name\": \"kubernetes.core\",\n",
      "                \"msg\": \"The 'return_code' return key is being renamed to 'rc'. Both keys are being returned for now to allow users to migrate their automation.\",\n",
      "                \"version\": \"4.0.0\"\n",
      "            }\n",
      "        ],\n",
      "        \"failed\": false,\n",
      "        \"rc\": 0,\n",
      "        \"return_code\": 0,\n",
      "        \"stderr\": \"WARN  - 2024-01-17 21:00:24.761; org.apache.solr.common.cloud.SolrZkClient; Using default ZkCredentialsInjector. ZkCredentialsInjector is not secure, it creates an empty list of credentials which leads to 'OPEN_ACL_UNSAFE' ACLs to Zookeeper nodes\\nWARN  - 2024-01-17 21:00:24.826; org.apache.solr.common.cloud.SolrZkClient; Using default ZkACLProvider. DefaultZkACLProvider is not secure, it creates 'OPEN_ACL_UNSAFE' ACLs to Zookeeper nodes\\n\",\n",
      "        \"stderr_lines\": [\n",
      "            \"WARN  - 2024-01-17 21:00:24.761; org.apache.solr.common.cloud.SolrZkClient; Using default ZkCredentialsInjector. ZkCredentialsInjector is not secure, it creates an empty list of credentials which leads to 'OPEN_ACL_UNSAFE' ACLs to Zookeeper nodes\",\n",
      "            \"WARN  - 2024-01-17 21:00:24.826; org.apache.solr.common.cloud.SolrZkClient; Using default ZkACLProvider. DefaultZkACLProvider is not secure, it creates 'OPEN_ACL_UNSAFE' ACLs to Zookeeper nodes\"\n",
      "        ],\n",
      "        \"stdout\": \"Uploading /opt/solr/server/solr/configsets/computate/conf for config computate to ZooKeeper at zookeeper.smart-village-faeeb6c.svc:2181\\n\",\n",
      "        \"stdout_lines\": [\n",
      "            \"Uploading /opt/solr/server/solr/configsets/computate/conf for config computate to ZooKeeper at zookeeper.smart-village-faeeb6c.svc:2181\"\n",
      "        ],\n",
      "        \"warnings\": [\n",
      "            \"kubernetes<24.2.0 is not supported or tested. Some features may not work.\"\n",
      "        ]\n",
      "    }\n",
      "}\n",
      "\n",
      "TASK [computate.computate_project : Create Solr computate collection] **********\n",
      "fatal: [localhost]: FAILED! => {\"changed\": false, \"rc\": 1, \"return_code\": 1, \"stderr\": \"WARN  - 2024-01-17 21:00:27.478; org.apache.solr.common.cloud.SolrZkClient; Using default ZkCredentialsInjector. ZkCredentialsInjector is not secure, it creates an empty list of credentials which leads to 'OPEN_ACL_UNSAFE' ACLs to Zookeeper nodes\\nWARN  - 2024-01-17 21:00:27.515; org.apache.solr.common.cloud.SolrZkClient; Using default ZkACLProvider. DefaultZkACLProvider is not secure, it creates 'OPEN_ACL_UNSAFE' ACLs to Zookeeper nodes\\n\\nERROR: \\nCollection 'computate' already exists!\\nChecked collection existence using CollectionAdminRequest\\n\\n\", \"stderr_lines\": [\"WARN  - 2024-01-17 21:00:27.478; org.apache.solr.common.cloud.SolrZkClient; Using default ZkCredentialsInjector. ZkCredentialsInjector is not secure, it creates an empty list of credentials which leads to 'OPEN_ACL_UNSAFE' ACLs to Zookeeper nodes\", \"WARN  - 2024-01-17 21:00:27.515; org.apache.solr.common.cloud.SolrZkClient; Using default ZkACLProvider. DefaultZkACLProvider is not secure, it creates 'OPEN_ACL_UNSAFE' ACLs to Zookeeper nodes\", \"\", \"ERROR: \", \"Collection 'computate' already exists!\", \"Checked collection existence using CollectionAdminRequest\", \"\"], \"stdout\": \"Re-using existing configuration directory computate\\n\", \"stdout_lines\": [\"Re-using existing configuration directory computate\"]}\n",
      "...ignoring\n",
      "\n",
      "TASK [computate.computate_project : Test create_computate_collection success] ***\n",
      "skipping: [localhost]\n",
      "\n",
      "TASK [computate.computate_project : Create Solr smartvillage collection] *******\n",
      "fatal: [localhost]: FAILED! => {\"changed\": false, \"rc\": 1, \"return_code\": 1, \"stderr\": \"WARN  - 2024-01-17 21:00:29.769; org.apache.solr.common.cloud.SolrZkClient; Using default ZkCredentialsInjector. ZkCredentialsInjector is not secure, it creates an empty list of credentials which leads to 'OPEN_ACL_UNSAFE' ACLs to Zookeeper nodes\\nWARN  - 2024-01-17 21:00:29.805; org.apache.solr.common.cloud.SolrZkClient; Using default ZkACLProvider. DefaultZkACLProvider is not secure, it creates 'OPEN_ACL_UNSAFE' ACLs to Zookeeper nodes\\n\\nERROR: \\nCollection 'smartvillage' already exists!\\nChecked collection existence using CollectionAdminRequest\\n\\n\", \"stderr_lines\": [\"WARN  - 2024-01-17 21:00:29.769; org.apache.solr.common.cloud.SolrZkClient; Using default ZkCredentialsInjector. ZkCredentialsInjector is not secure, it creates an empty list of credentials which leads to 'OPEN_ACL_UNSAFE' ACLs to Zookeeper nodes\", \"WARN  - 2024-01-17 21:00:29.805; org.apache.solr.common.cloud.SolrZkClient; Using default ZkACLProvider. DefaultZkACLProvider is not secure, it creates 'OPEN_ACL_UNSAFE' ACLs to Zookeeper nodes\", \"\", \"ERROR: \", \"Collection 'smartvillage' already exists!\", \"Checked collection existence using CollectionAdminRequest\", \"\"], \"stdout\": \"Re-using existing configuration directory computate\\n\", \"stdout_lines\": [\"Re-using existing configuration directory computate\"]}\n",
      "...ignoring\n",
      "\n",
      "TASK [computate.computate_project : Test create smartvillage collection success] ***\n",
      "skipping: [localhost]\n",
      "\n",
      "TASK [computate.computate_project : Create Solr computate collection] **********\n",
      "fatal: [localhost]: FAILED! => {\"changed\": false, \"rc\": 1, \"return_code\": 1, \"stderr\": \"WARN  - 2024-01-17 21:00:32.089; org.apache.solr.common.cloud.SolrZkClient; Using default ZkCredentialsInjector. ZkCredentialsInjector is not secure, it creates an empty list of credentials which leads to 'OPEN_ACL_UNSAFE' ACLs to Zookeeper nodes\\nWARN  - 2024-01-17 21:00:32.125; org.apache.solr.common.cloud.SolrZkClient; Using default ZkACLProvider. DefaultZkACLProvider is not secure, it creates 'OPEN_ACL_UNSAFE' ACLs to Zookeeper nodes\\n\\nERROR: \\nCollection 'computate' already exists!\\nChecked collection existence using CollectionAdminRequest\\n\\n\", \"stderr_lines\": [\"WARN  - 2024-01-17 21:00:32.089; org.apache.solr.common.cloud.SolrZkClient; Using default ZkCredentialsInjector. ZkCredentialsInjector is not secure, it creates an empty list of credentials which leads to 'OPEN_ACL_UNSAFE' ACLs to Zookeeper nodes\", \"WARN  - 2024-01-17 21:00:32.125; org.apache.solr.common.cloud.SolrZkClient; Using default ZkACLProvider. DefaultZkACLProvider is not secure, it creates 'OPEN_ACL_UNSAFE' ACLs to Zookeeper nodes\", \"\", \"ERROR: \", \"Collection 'computate' already exists!\", \"Checked collection existence using CollectionAdminRequest\", \"\"], \"stdout\": \"Re-using existing configuration directory computate\\n\", \"stdout_lines\": [\"Re-using existing configuration directory computate\"]}\n",
      "...ignoring\n",
      "\n",
      "TASK [computate.computate_project : Test create_collection success] ************\n",
      "skipping: [localhost]\n",
      "\n",
      "TASK [computate.computate_project : Build the source code in /opt/app-root/src/computate] ***\n",
      "changed: [localhost]\n",
      "\n",
      "TASK [computate.computate_project : Build the source code in /opt/app-root/src/smartabyar-smartvillage] ***\n",
      "changed: [localhost]\n",
      "\n",
      "PLAY RECAP *********************************************************************\n",
      "localhost                  : ok=32   changed=4    unreachable=0    failed=0    skipped=12   rescued=0    ignored=11  \n",
      "\n",
      "DONE\n"
     ]
    }
   ],
   "source": [
    "%%bash\n",
    "ansible-playbook ~/.ansible/roles/computate.computate_project/install.yml \\\n",
    "  -e SITE_NAME=smartabyar-smartvillage \\\n",
    "  -e SYSTEMD_ENABLED=false \\\n",
    "  -e SITE_PREFIX=/opt/app-root/src \\\n",
    "  -e SOLR_HOST_NAME=solr \\\n",
    "  -e SOLR_PORT=8983 \\\n",
    "  -e SOLR_SSL=false \\\n",
    "  -e SOLR_URL=\"http://solr:8983/solr/smartabyar-smartvillage\" \\\n",
    "  -e SOLR_URL_COMPUTATE=\"http://solr:8983/solr/computate\" \\\n",
    "  -e ZOOKEEPER_HOST_NAME=zookeeper \\\n",
    "  -e ZOOKEEPER_PORT=2181 \\\n",
    "  -e JDBC_HOST=postgres-primary \\\n",
    "  -e JDBC_PORT=5432 \\\n",
    "  -e POSTGRES_NAMESPACE=$(cat /var/run/secrets/kubernetes.io/serviceaccount/namespace) \\\n",
    "  -e ZOOKEEPER_NAMESPACE=$(cat /var/run/secrets/kubernetes.io/serviceaccount/namespace) \\\n",
    "  -e SOLR_NAMESPACE=$(cat /var/run/secrets/kubernetes.io/serviceaccount/namespace)\n",
    "echo DONE"
   ]
  },
  {
   "cell_type": "code",
   "execution_count": 11,
   "id": "67d80e4c-09e6-4751-91c5-e3734d7841c6",
   "metadata": {},
   "outputs": [
    {
     "name": "stdout",
     "output_type": "stream",
     "text": [
      "21:23:13.119 INFO  [RegarderRepertoire:441] Generate: /opt/app-root/src/smartabyar-smartvillage/src/main/java/org/computate/smartvillage/enus\n",
      "Indexed /opt/app-root/src/smartabyar-smartvillage/src/main/java/org/computate/smartvillage/enus/vertx/WorkerVerticle.java\n",
      "Indexed /opt/app-root/src/smartabyar-smartvillage/src/main/java/org/computate/smartvillage/enus/vertx/MainVerticle.java\n",
      "Indexed /opt/app-root/src/smartabyar-smartvillage/src/main/java/org/computate/smartvillage/enus/model/iotnode/reader/IotNodeReader.java\n",
      "Indexed /opt/app-root/src/smartabyar-smartvillage/src/main/java/org/computate/smartvillage/enus/model/iotnode/IotNode.java\n",
      "Indexed /opt/app-root/src/smartabyar-smartvillage/src/main/java/org/computate/smartvillage/enus/model/iotnode/IotNodePage.java\n",
      "Indexed /opt/app-root/src/smartabyar-smartvillage/src/main/java/org/computate/smartvillage/enus/model/traffic/vehicle/step/VehicleStepPage.java\n",
      "Indexed /opt/app-root/src/smartabyar-smartvillage/src/main/java/org/computate/smartvillage/enus/model/traffic/vehicle/step/VehicleStep.java\n",
      "Indexed /opt/app-root/src/smartabyar-smartvillage/src/main/java/org/computate/smartvillage/enus/model/traffic/person/step/PersonStepPage.java\n",
      "Indexed /opt/app-root/src/smartabyar-smartvillage/src/main/java/org/computate/smartvillage/enus/model/traffic/person/step/PersonStep.java\n",
      "Indexed /opt/app-root/src/smartabyar-smartvillage/src/main/java/org/computate/smartvillage/enus/model/traffic/bicycle/step/BicycleStep.java\n",
      "Indexed /opt/app-root/src/smartabyar-smartvillage/src/main/java/org/computate/smartvillage/enus/model/traffic/bicycle/step/BicycleStepPage.java\n",
      "Indexed /opt/app-root/src/smartabyar-smartvillage/src/main/java/org/computate/smartvillage/enus/model/traffic/simulation/reader/TrafficFcdReader.java\n",
      "Indexed /opt/app-root/src/smartabyar-smartvillage/src/main/java/org/computate/smartvillage/enus/model/traffic/simulation/report/SimulationReport.java\n",
      "Indexed /opt/app-root/src/smartabyar-smartvillage/src/main/java/org/computate/smartvillage/enus/model/traffic/simulation/report/SimulationReportPage.java\n",
      "Indexed /opt/app-root/src/smartabyar-smartvillage/src/main/java/org/computate/smartvillage/enus/model/traffic/simulation/map/TrafficSimulationMapPage.java\n",
      "Indexed /opt/app-root/src/smartabyar-smartvillage/src/main/java/org/computate/smartvillage/enus/model/traffic/simulation/TrafficSimulation.java\n",
      "Indexed /opt/app-root/src/smartabyar-smartvillage/src/main/java/org/computate/smartvillage/enus/model/traffic/simulation/TrafficSimulationPage.java\n",
      "Indexed /opt/app-root/src/smartabyar-smartvillage/src/main/java/org/computate/smartvillage/enus/model/traffic/fiware/parkingaccess/ParkingAccessPage.java\n",
      "Indexed /opt/app-root/src/smartabyar-smartvillage/src/main/java/org/computate/smartvillage/enus/model/traffic/fiware/parkingaccess/ParkingAccess.java\n",
      "Indexed /opt/app-root/src/smartabyar-smartvillage/src/main/java/org/computate/smartvillage/enus/model/traffic/fiware/smarttrafficlight/SmartTrafficLightPage.java\n",
      "Indexed /opt/app-root/src/smartabyar-smartvillage/src/main/java/org/computate/smartvillage/enus/model/traffic/fiware/smarttrafficlight/SmartTrafficLight.java\n",
      "Indexed /opt/app-root/src/smartabyar-smartvillage/src/main/java/org/computate/smartvillage/enus/model/traffic/fiware/trafficflowobserved/TrafficFlowObserved.java\n",
      "Indexed /opt/app-root/src/smartabyar-smartvillage/src/main/java/org/computate/smartvillage/enus/model/traffic/fiware/trafficflowobserved/TrafficFlowObservedPage.java\n",
      "Indexed /opt/app-root/src/smartabyar-smartvillage/src/main/java/org/computate/smartvillage/enus/model/traffic/fiware/crowdflowobserved/CrowdFlowObservedPage.java\n",
      "Indexed /opt/app-root/src/smartabyar-smartvillage/src/main/java/org/computate/smartvillage/enus/model/traffic/fiware/crowdflowobserved/CrowdFlowObserved.java\n",
      "Indexed /opt/app-root/src/smartabyar-smartvillage/src/main/java/org/computate/smartvillage/enus/model/traffic/light/TrafficLight.java\n",
      "Indexed /opt/app-root/src/smartabyar-smartvillage/src/main/java/org/computate/smartvillage/enus/model/traffic/light/step/TrafficLightStepPage.java\n",
      "Indexed /opt/app-root/src/smartabyar-smartvillage/src/main/java/org/computate/smartvillage/enus/model/traffic/light/step/TrafficLightStep.java\n",
      "Indexed /opt/app-root/src/smartabyar-smartvillage/src/main/java/org/computate/smartvillage/enus/model/traffic/light/TrafficLightPage.java\n",
      "Indexed /opt/app-root/src/smartabyar-smartvillage/src/main/java/org/computate/smartvillage/enus/model/traffic/time/step/TimeStep.java\n",
      "Indexed /opt/app-root/src/smartabyar-smartvillage/src/main/java/org/computate/smartvillage/enus/model/traffic/time/step/TimeStepPage.java\n",
      "Indexed /opt/app-root/src/smartabyar-smartvillage/src/main/java/org/computate/smartvillage/enus/result/iotnode/step/IotNodeStep.java\n",
      "Indexed /opt/app-root/src/smartabyar-smartvillage/src/main/java/org/computate/smartvillage/enus/result/iotnode/step/IotNodeStepPage.java\n",
      "Indexed /opt/app-root/src/smartabyar-smartvillage/src/main/java/org/computate/smartvillage/enus/config/ConfigKeys.java\n",
      "Indexed /opt/app-root/src/smartabyar-smartvillage/src/main/java/org/computate/smartvillage/enus/package-info.java\n",
      "Indexed /opt/app-root/src/smartabyar-smartvillage/src/main/java/org/computate/smartvillage/enus/quarkus/QuarkusApp.java\n",
      "Indexed /opt/app-root/src/smartabyar-smartvillage/src/main/java/org/computate/smartvillage/enus/page/HomePage.java\n",
      "Indexed /opt/app-root/src/smartabyar-smartvillage/src/main/java/org/computate/smartvillage/enus/camel/CamelIntegration.java\n",
      "Indexed /opt/app-root/src/smartabyar-smartvillage/src/main/java/org/computate/smartvillage/enus/vertx/WorkerVerticle.java\n",
      "Indexed /opt/app-root/src/smartabyar-smartvillage/src/main/java/org/computate/smartvillage/enus/vertx/MainVerticle.java\n",
      "Indexed /opt/app-root/src/smartabyar-smartvillage/src/main/java/org/computate/smartvillage/enus/model/iotnode/reader/IotNodeReader.java\n",
      "Indexed /opt/app-root/src/smartabyar-smartvillage/src/main/java/org/computate/smartvillage/enus/model/iotnode/IotNode.java\n",
      "Indexed /opt/app-root/src/smartabyar-smartvillage/src/main/java/org/computate/smartvillage/enus/model/iotnode/IotNodePage.java\n",
      "Indexed /opt/app-root/src/smartabyar-smartvillage/src/main/java/org/computate/smartvillage/enus/model/traffic/vehicle/step/VehicleStepPage.java\n",
      "Indexed /opt/app-root/src/smartabyar-smartvillage/src/main/java/org/computate/smartvillage/enus/model/traffic/vehicle/step/VehicleStep.java\n",
      "Indexed /opt/app-root/src/smartabyar-smartvillage/src/main/java/org/computate/smartvillage/enus/model/traffic/person/step/PersonStepPage.java\n",
      "Indexed /opt/app-root/src/smartabyar-smartvillage/src/main/java/org/computate/smartvillage/enus/model/traffic/person/step/PersonStep.java\n",
      "Indexed /opt/app-root/src/smartabyar-smartvillage/src/main/java/org/computate/smartvillage/enus/model/traffic/bicycle/step/BicycleStep.java\n",
      "Indexed /opt/app-root/src/smartabyar-smartvillage/src/main/java/org/computate/smartvillage/enus/model/traffic/bicycle/step/BicycleStepPage.java\n",
      "Indexed /opt/app-root/src/smartabyar-smartvillage/src/main/java/org/computate/smartvillage/enus/model/traffic/simulation/reader/TrafficFcdReader.java\n",
      "Indexed /opt/app-root/src/smartabyar-smartvillage/src/main/java/org/computate/smartvillage/enus/model/traffic/simulation/report/SimulationReport.java\n",
      "Indexed /opt/app-root/src/smartabyar-smartvillage/src/main/java/org/computate/smartvillage/enus/model/traffic/simulation/report/SimulationReportPage.java\n",
      "Indexed /opt/app-root/src/smartabyar-smartvillage/src/main/java/org/computate/smartvillage/enus/model/traffic/simulation/map/TrafficSimulationMapPage.java\n",
      "Indexed /opt/app-root/src/smartabyar-smartvillage/src/main/java/org/computate/smartvillage/enus/model/traffic/simulation/TrafficSimulation.java\n",
      "Indexed /opt/app-root/src/smartabyar-smartvillage/src/main/java/org/computate/smartvillage/enus/model/traffic/simulation/TrafficSimulationPage.java\n",
      "Indexed /opt/app-root/src/smartabyar-smartvillage/src/main/java/org/computate/smartvillage/enus/model/traffic/fiware/parkingaccess/ParkingAccessPage.java\n",
      "Indexed /opt/app-root/src/smartabyar-smartvillage/src/main/java/org/computate/smartvillage/enus/model/traffic/fiware/parkingaccess/ParkingAccess.java\n",
      "Indexed /opt/app-root/src/smartabyar-smartvillage/src/main/java/org/computate/smartvillage/enus/model/traffic/fiware/smarttrafficlight/SmartTrafficLightPage.java\n",
      "Indexed /opt/app-root/src/smartabyar-smartvillage/src/main/java/org/computate/smartvillage/enus/model/traffic/fiware/smarttrafficlight/SmartTrafficLight.java\n",
      "Indexed /opt/app-root/src/smartabyar-smartvillage/src/main/java/org/computate/smartvillage/enus/model/traffic/fiware/trafficflowobserved/TrafficFlowObserved.java\n",
      "Indexed /opt/app-root/src/smartabyar-smartvillage/src/main/java/org/computate/smartvillage/enus/model/traffic/fiware/trafficflowobserved/TrafficFlowObservedPage.java\n",
      "Indexed /opt/app-root/src/smartabyar-smartvillage/src/main/java/org/computate/smartvillage/enus/model/traffic/fiware/crowdflowobserved/CrowdFlowObservedPage.java\n",
      "Indexed /opt/app-root/src/smartabyar-smartvillage/src/main/java/org/computate/smartvillage/enus/model/traffic/fiware/crowdflowobserved/CrowdFlowObserved.java\n",
      "Indexed /opt/app-root/src/smartabyar-smartvillage/src/main/java/org/computate/smartvillage/enus/model/traffic/light/TrafficLight.java\n",
      "Indexed /opt/app-root/src/smartabyar-smartvillage/src/main/java/org/computate/smartvillage/enus/model/traffic/light/step/TrafficLightStepPage.java\n",
      "Indexed /opt/app-root/src/smartabyar-smartvillage/src/main/java/org/computate/smartvillage/enus/model/traffic/light/step/TrafficLightStep.java\n",
      "Indexed /opt/app-root/src/smartabyar-smartvillage/src/main/java/org/computate/smartvillage/enus/model/traffic/light/TrafficLightPage.java\n",
      "Indexed /opt/app-root/src/smartabyar-smartvillage/src/main/java/org/computate/smartvillage/enus/model/traffic/time/step/TimeStep.java\n",
      "Indexed /opt/app-root/src/smartabyar-smartvillage/src/main/java/org/computate/smartvillage/enus/model/traffic/time/step/TimeStepPage.java\n",
      "Indexed /opt/app-root/src/smartabyar-smartvillage/src/main/java/org/computate/smartvillage/enus/result/iotnode/step/IotNodeStep.java\n",
      "Indexed /opt/app-root/src/smartabyar-smartvillage/src/main/java/org/computate/smartvillage/enus/result/iotnode/step/IotNodeStepPage.java\n",
      "Indexed /opt/app-root/src/smartabyar-smartvillage/src/main/java/org/computate/smartvillage/enus/config/ConfigKeys.java\n",
      "Indexed /opt/app-root/src/smartabyar-smartvillage/src/main/java/org/computate/smartvillage/enus/package-info.java\n",
      "Indexed /opt/app-root/src/smartabyar-smartvillage/src/main/java/org/computate/smartvillage/enus/quarkus/QuarkusApp.java\n",
      "Indexed /opt/app-root/src/smartabyar-smartvillage/src/main/java/org/computate/smartvillage/enus/page/HomePage.java\n",
      "Indexed /opt/app-root/src/smartabyar-smartvillage/src/main/java/org/computate/smartvillage/enus/camel/CamelIntegration.java\n",
      "Indexed /opt/app-root/src/smartabyar-smartvillage/src/main/java/org/computate/smartvillage/enus/vertx/WorkerVerticle.java\n",
      "Indexed /opt/app-root/src/smartabyar-smartvillage/src/main/java/org/computate/smartvillage/enus/vertx/MainVerticle.java\n",
      "Indexed /opt/app-root/src/smartabyar-smartvillage/src/main/java/org/computate/smartvillage/enus/model/iotnode/reader/IotNodeReader.java\n",
      "Indexed /opt/app-root/src/smartabyar-smartvillage/src/main/java/org/computate/smartvillage/enus/model/iotnode/IotNode.java\n",
      "Indexed /opt/app-root/src/smartabyar-smartvillage/src/main/java/org/computate/smartvillage/enus/model/iotnode/IotNodePage.java\n",
      "Indexed /opt/app-root/src/smartabyar-smartvillage/src/main/java/org/computate/smartvillage/enus/model/traffic/vehicle/step/VehicleStepPage.java\n",
      "Indexed /opt/app-root/src/smartabyar-smartvillage/src/main/java/org/computate/smartvillage/enus/model/traffic/vehicle/step/VehicleStep.java\n",
      "Indexed /opt/app-root/src/smartabyar-smartvillage/src/main/java/org/computate/smartvillage/enus/model/traffic/person/step/PersonStepPage.java\n",
      "Indexed /opt/app-root/src/smartabyar-smartvillage/src/main/java/org/computate/smartvillage/enus/model/traffic/person/step/PersonStep.java\n",
      "Indexed /opt/app-root/src/smartabyar-smartvillage/src/main/java/org/computate/smartvillage/enus/model/traffic/bicycle/step/BicycleStep.java\n",
      "Indexed /opt/app-root/src/smartabyar-smartvillage/src/main/java/org/computate/smartvillage/enus/model/traffic/bicycle/step/BicycleStepPage.java\n",
      "Indexed /opt/app-root/src/smartabyar-smartvillage/src/main/java/org/computate/smartvillage/enus/model/traffic/simulation/reader/TrafficFcdReader.java\n",
      "Indexed /opt/app-root/src/smartabyar-smartvillage/src/main/java/org/computate/smartvillage/enus/model/traffic/simulation/report/SimulationReport.java\n",
      "Indexed /opt/app-root/src/smartabyar-smartvillage/src/main/java/org/computate/smartvillage/enus/model/traffic/simulation/report/SimulationReportPage.java\n",
      "Indexed /opt/app-root/src/smartabyar-smartvillage/src/main/java/org/computate/smartvillage/enus/model/traffic/simulation/map/TrafficSimulationMapPage.java\n",
      "Indexed /opt/app-root/src/smartabyar-smartvillage/src/main/java/org/computate/smartvillage/enus/model/traffic/simulation/TrafficSimulation.java\n",
      "Indexed /opt/app-root/src/smartabyar-smartvillage/src/main/java/org/computate/smartvillage/enus/model/traffic/simulation/TrafficSimulationPage.java\n",
      "Indexed /opt/app-root/src/smartabyar-smartvillage/src/main/java/org/computate/smartvillage/enus/model/traffic/fiware/parkingaccess/ParkingAccessPage.java\n",
      "Indexed /opt/app-root/src/smartabyar-smartvillage/src/main/java/org/computate/smartvillage/enus/model/traffic/fiware/parkingaccess/ParkingAccess.java\n",
      "Indexed /opt/app-root/src/smartabyar-smartvillage/src/main/java/org/computate/smartvillage/enus/model/traffic/fiware/smarttrafficlight/SmartTrafficLightPage.java\n",
      "Indexed /opt/app-root/src/smartabyar-smartvillage/src/main/java/org/computate/smartvillage/enus/model/traffic/fiware/smarttrafficlight/SmartTrafficLight.java\n",
      "Indexed /opt/app-root/src/smartabyar-smartvillage/src/main/java/org/computate/smartvillage/enus/model/traffic/fiware/trafficflowobserved/TrafficFlowObserved.java\n",
      "Indexed /opt/app-root/src/smartabyar-smartvillage/src/main/java/org/computate/smartvillage/enus/model/traffic/fiware/trafficflowobserved/TrafficFlowObservedPage.java\n",
      "Indexed /opt/app-root/src/smartabyar-smartvillage/src/main/java/org/computate/smartvillage/enus/model/traffic/fiware/crowdflowobserved/CrowdFlowObservedPage.java\n",
      "Indexed /opt/app-root/src/smartabyar-smartvillage/src/main/java/org/computate/smartvillage/enus/model/traffic/fiware/crowdflowobserved/CrowdFlowObserved.java\n",
      "Indexed /opt/app-root/src/smartabyar-smartvillage/src/main/java/org/computate/smartvillage/enus/model/traffic/light/TrafficLight.java\n",
      "Indexed /opt/app-root/src/smartabyar-smartvillage/src/main/java/org/computate/smartvillage/enus/model/traffic/light/step/TrafficLightStepPage.java\n",
      "Indexed /opt/app-root/src/smartabyar-smartvillage/src/main/java/org/computate/smartvillage/enus/model/traffic/light/step/TrafficLightStep.java\n",
      "Indexed /opt/app-root/src/smartabyar-smartvillage/src/main/java/org/computate/smartvillage/enus/model/traffic/light/TrafficLightPage.java\n",
      "Indexed /opt/app-root/src/smartabyar-smartvillage/src/main/java/org/computate/smartvillage/enus/model/traffic/time/step/TimeStep.java\n",
      "Indexed /opt/app-root/src/smartabyar-smartvillage/src/main/java/org/computate/smartvillage/enus/model/traffic/time/step/TimeStepPage.java\n",
      "Indexed /opt/app-root/src/smartabyar-smartvillage/src/main/java/org/computate/smartvillage/enus/result/iotnode/step/IotNodeStep.java\n",
      "Indexed /opt/app-root/src/smartabyar-smartvillage/src/main/java/org/computate/smartvillage/enus/result/iotnode/step/IotNodeStepPage.java\n",
      "Indexed /opt/app-root/src/smartabyar-smartvillage/src/main/java/org/computate/smartvillage/enus/config/ConfigKeys.java\n",
      "Indexed /opt/app-root/src/smartabyar-smartvillage/src/main/java/org/computate/smartvillage/enus/package-info.java\n",
      "Indexed /opt/app-root/src/smartabyar-smartvillage/src/main/java/org/computate/smartvillage/enus/quarkus/QuarkusApp.java\n",
      "Indexed /opt/app-root/src/smartabyar-smartvillage/src/main/java/org/computate/smartvillage/enus/page/HomePage.java\n",
      "Indexed /opt/app-root/src/smartabyar-smartvillage/src/main/java/org/computate/smartvillage/enus/camel/CamelIntegration.java\n",
      "DONE\n"
     ]
    }
   ],
   "source": [
    "%%bash\n",
    "env SITE_NAME=smartabyar-smartvillage \\\n",
    "  SITE_PATH=$HOME/smartabyar-smartvillage \\\n",
    "  COMPUTATE_SRC=$HOME/computate \\\n",
    "  SITE_LANG=enUS \\\n",
    "  ~/computate/bin/enUS/generate.sh\n",
    "echo DONE"
   ]
  },
  {
   "cell_type": "code",
   "execution_count": 16,
   "id": "eacf59a6-a5bf-4b20-8be8-c85266d2a6f2",
   "metadata": {},
   "outputs": [
    {
     "name": "stdout",
     "output_type": "stream",
     "text": [
      "service/sumodev unchanged\n"
     ]
    }
   ],
   "source": [
    "%%bash\n",
    "echo '\n",
    "kind: Service\n",
    "apiVersion: v1\n",
    "metadata:\n",
    "  name: sumodev\n",
    "  namespace: smart-village-faeeb6c\n",
    "spec:\n",
    "  ports:\n",
    "    - protocol: TCP\n",
    "      port: 12080\n",
    "      targetPort: 12080\n",
    "  type: ClusterIP\n",
    "  selector:\n",
    "    notebook-name: sumo\n",
    "' | oc apply -f -\n"
   ]
  },
  {
   "cell_type": "code",
   "execution_count": null,
   "id": "f5962e5d-48c2-49c3-86cc-5f5d1ba7a8a6",
   "metadata": {},
   "outputs": [],
   "source": []
  }
 ],
 "metadata": {
  "kernelspec": {
   "display_name": "Python 3 (ipykernel)",
   "language": "python",
   "name": "python3"
  },
  "language_info": {
   "codemirror_mode": {
    "name": "ipython",
    "version": 3
   },
   "file_extension": ".py",
   "mimetype": "text/x-python",
   "name": "python",
   "nbconvert_exporter": "python",
   "pygments_lexer": "ipython3",
   "version": "3.8.12"
  }
 },
 "nbformat": 4,
 "nbformat_minor": 5
}
