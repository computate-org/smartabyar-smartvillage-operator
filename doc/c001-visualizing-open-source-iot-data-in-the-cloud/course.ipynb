{
 "cells": [
  {
   "cell_type": "markdown",
   "id": "5864f087-5933-4467-a7e8-4677f6dc1707",
   "metadata": {
    "tags": []
   },
   "source": [
    "# Install FIWARE applications\n",
    "## Install the MongoDB NoSQL database"
   ]
  },
  {
   "cell_type": "code",
   "execution_count": null,
   "id": "38b8ab03-3973-46b0-b674-839491acef65",
   "metadata": {},
   "outputs": [],
   "source": [
    "# Install prerequisite helm binary\n",
    "\n",
    "Download the latest [helm binary here](https://github.com/helm/helm/releases), I recommend the Linux amd64 binary if you are on a Linux x86_64 system. \n"
   ]
  },
  {
   "cell_type": "code",
   "execution_count": null,
   "id": "9e5a0a60-d096-4e4b-a1ca-c260a51eaba6",
   "metadata": {},
   "outputs": [],
   "source": [
    "%%bash\n",
    "curl https://get.helm.sh/helm-v3.13.2-linux-amd64.tar.gz -o /tmp/helm-v3.13.2-linux-amd64.tar.gz\n",
    "mkdir -p ~/.local/opt/helm/ ~/.local/bin/\n",
    "tar xvf /tmp/helm-v3.13.2-linux-amd64.tar.gz --strip-components=1 -C ~/.local/opt/helm/\n",
    "cp ~/.local/opt/helm/helm ~/.local/bin/\n",
    "which helm\n"
   ]
  },
  {
   "cell_type": "code",
   "execution_count": null,
   "id": "ee2ad635-7fce-44eb-8d44-e52f52f36faf",
   "metadata": {},
   "outputs": [],
   "source": [
    "## Set up a new Python virtualenv\n"
   ]
  },
  {
   "cell_type": "code",
   "execution_count": null,
   "id": "6dd3bcc0-b52a-485c-9aa7-50445bc85cdc",
   "metadata": {},
   "outputs": [],
   "source": [
    "%%bash\n",
    "pip install virtualenv\n",
    "virtualenv ~/python\n",
    "echo \"source ~/python/bin/activate\" | tee -a ~/.bashrc\n",
    "source ~/.bashrc\n",
    "which python\n"
   ]
  },
  {
   "cell_type": "code",
   "execution_count": null,
   "id": "6ee48b21-a3f4-431b-b457-5cce96e123d9",
   "metadata": {},
   "outputs": [],
   "source": [
    "## Install the latest Ansible\n"
   ]
  },
  {
   "cell_type": "code",
   "execution_count": null,
   "id": "ff1d7dc2-e448-4df5-a186-b334cc6aee1f",
   "metadata": {},
   "outputs": [],
   "source": [
    "%%bash\n",
    "pip install setuptools_rust wheel\n",
    "pip install --upgrade pip\n",
    "pip install ansible kubernetes openshift jmespath --upgrade\n",
    "which ansible-playbook\n"
   ]
  },
  {
   "cell_type": "markdown",
   "id": "2e046b36-22f9-42ce-9482-6308a9b2ac6e",
   "metadata": {},
   "source": [
    "# Setup the project\n",
    "\n",
    "## Setup the directory for the project and clone the git repository into it \n"
   ]
  },
  {
   "cell_type": "code",
   "execution_count": null,
   "id": "6fa7e13d-44c8-4f9b-9f59-503a66457ee4",
   "metadata": {},
   "outputs": [],
   "source": [
    "%%bash\n",
    "git clone https://github.com/computate-org/smartabyar-smartvillage.git ~/smartabyar-smartvillage\n"
   ]
  },
  {
   "cell_type": "markdown",
   "id": "583485f1-e367-4e9a-812c-65e14f3a390e",
   "metadata": {},
   "source": [
    "## Setup a directory for Ansible roles and clone the Ansible role to install the project\n"
   ]
  },
  {
   "cell_type": "code",
   "execution_count": null,
   "id": "2b42208e-2f3b-4828-a59d-231a7f13ea6b",
   "metadata": {},
   "outputs": [],
   "source": [
    "%%bash\n",
    "mkdir -p ~/.ansible/roles/\n",
    "git clone https://github.com/computate-org/computate_project.git ~/.ansible/roles/computate.computate_project\n"
   ]
  },
  {
   "cell_type": "markdown",
   "id": "0bc2cc7e-360b-4f87-b091-a0a6811b8e9a",
   "metadata": {},
   "source": [
    "## Run the Ansible Playbook to install the project\n"
   ]
  },
  {
   "cell_type": "code",
   "execution_count": null,
   "id": "3d0f0a74-4b55-45f2-9c9c-c38bb6d333be",
   "metadata": {},
   "outputs": [],
   "source": [
    "%%bash\n",
    "ansible-playbook ~/smartabyar-smartvillage/install.yml -e SYSTEMD_ENABLED=false\n"
   ]
  },
  {
   "cell_type": "markdown",
   "id": "353bed86-20d9-4d37-8d10-b11f6cc4c19a",
   "metadata": {},
   "source": [
    "## Install the MongoDB NOSQL Database in the OpenShift Developer Sandbox\n"
   ]
  },
  {
   "cell_type": "code",
   "execution_count": null,
   "id": "73481ff1-c8ea-4b9d-b093-a538dc433eac",
   "metadata": {},
   "outputs": [],
   "source": [
    "%%bash\n",
    "ansible-playbook ~/smartvillage-operator/apply-edgemongodb.yaml \\\n",
    "  -e ansible_operator_meta_namespace=$(oc get project -o jsonpath={.items[0].metadata.name}) \\\n",
    "  -e crd_path=~/smartvillage-operator/kustomize/overlays/sandbox/edgemongodbs/mongodb/edgemongodb.yaml\n"
   ]
  },
  {
   "cell_type": "code",
   "execution_count": null,
   "id": "6a69fcaf-1c0e-475b-abe0-e9c7b07b04d0",
   "metadata": {},
   "outputs": [],
   "source": []
  },
  {
   "cell_type": "code",
   "execution_count": null,
   "id": "7ea2f43d-f9a5-49e3-a727-2624b516c3fa",
   "metadata": {},
   "outputs": [],
   "source": []
  },
  {
   "cell_type": "code",
   "execution_count": null,
   "id": "0559208a-40a8-4f3b-b8ec-85f4cb73c93e",
   "metadata": {},
   "outputs": [],
   "source": []
  },
  {
   "cell_type": "code",
   "execution_count": null,
   "id": "392b71d9-2b96-4a80-9aab-061e9ceca75d",
   "metadata": {},
   "outputs": [],
   "source": []
  },
  {
   "cell_type": "code",
   "execution_count": null,
   "id": "7ad2d74e-076a-492c-b068-0ff1987c90ce",
   "metadata": {},
   "outputs": [],
   "source": []
  },
  {
   "cell_type": "code",
   "execution_count": null,
   "id": "2f793aba-a313-4936-bd6b-ba6f571b47ae",
   "metadata": {},
   "outputs": [],
   "source": []
  },
  {
   "cell_type": "code",
   "execution_count": null,
   "id": "3ef637e2-0a33-432d-b378-06962677af5f",
   "metadata": {},
   "outputs": [],
   "source": []
  }
 ],
 "metadata": {
  "kernelspec": {
   "display_name": "Python 3.9",
   "language": "python",
   "name": "python3"
  },
  "language_info": {
   "codemirror_mode": {
    "name": "ipython",
    "version": 3
   },
   "file_extension": ".py",
   "mimetype": "text/x-python",
   "name": "python",
   "nbconvert_exporter": "python",
   "pygments_lexer": "ipython3",
   "version": "3.9.16"
  }
 },
 "nbformat": 4,
 "nbformat_minor": 5
}
