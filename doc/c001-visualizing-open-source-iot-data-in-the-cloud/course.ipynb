{
 "cells": [
  {
   "cell_type": "markdown",
   "id": "5864f087-5933-4467-a7e8-4677f6dc1707",
   "metadata": {
    "tags": []
   },
   "source": [
    "# Course 001 Visualizing open source IoT data in the cloud\n"
   ]
  },
  {
   "cell_type": "code",
   "execution_count": null,
   "id": "38b8ab03-3973-46b0-b674-839491acef65",
   "metadata": {},
   "outputs": [],
   "source": [
    "# Install prerequisite helm binary\n"
   ]
  },
  {
   "cell_type": "code",
   "execution_count": null,
   "id": "9e5a0a60-d096-4e4b-a1ca-c260a51eaba6",
   "metadata": {},
   "outputs": [],
   "source": [
    "%%bash\n",
    "curl https://get.helm.sh/helm-v3.13.2-linux-amd64.tar.gz -o /tmp/helm-v3.13.2-linux-amd64.tar.gz\n",
    "mkdir -p ~/.local/opt/helm/ ~/.local/bin/\n",
    "tar xvf /tmp/helm-v3.13.2-linux-amd64.tar.gz --strip-components=1 -C ~/.local/opt/helm/\n",
    "cp ~/.local/opt/helm/helm ~/.local/bin/\n",
    "which helm\n"
   ]
  },
  {
   "cell_type": "code",
   "execution_count": null,
   "id": "ee2ad635-7fce-44eb-8d44-e52f52f36faf",
   "metadata": {},
   "outputs": [],
   "source": [
    "## Set up a new Python virtualenv\n"
   ]
  },
  {
   "cell_type": "code",
   "execution_count": null,
   "id": "6dd3bcc0-b52a-485c-9aa7-50445bc85cdc",
   "metadata": {},
   "outputs": [],
   "source": [
    "%%bash\n",
    "pip install virtualenv\n",
    "virtualenv ~/python\n",
    "echo \"source ~/python/bin/activate\" | tee -a ~/.bashrc\n",
    "source ~/.bashrc\n",
    "which python\n"
   ]
  },
  {
   "cell_type": "code",
   "execution_count": null,
   "id": "6ee48b21-a3f4-431b-b457-5cce96e123d9",
   "metadata": {},
   "outputs": [],
   "source": [
    "## Install the latest Ansible\n"
   ]
  },
  {
   "cell_type": "code",
   "execution_count": null,
   "id": "ff1d7dc2-e448-4df5-a186-b334cc6aee1f",
   "metadata": {},
   "outputs": [],
   "source": [
    "%%bash\n",
    "pip install setuptools_rust wheel\n",
    "pip install --upgrade pip\n",
    "pip install ansible kubernetes openshift jmespath --upgrade\n",
    "which ansible-playbook\n"
   ]
  },
  {
   "cell_type": "markdown",
   "id": "2e046b36-22f9-42ce-9482-6308a9b2ac6e",
   "metadata": {},
   "source": [
    "# Setup the project\n",
    "\n",
    "## Setup the directory for the project and clone the git repository into it \n"
   ]
  },
  {
   "cell_type": "code",
   "execution_count": null,
   "id": "6fa7e13d-44c8-4f9b-9f59-503a66457ee4",
   "metadata": {},
   "outputs": [],
   "source": [
    "%%bash\n",
    "git clone https://github.com/computate-org/smartabyar-smartvillage.git ~/smartabyar-smartvillage\n"
   ]
  },
  {
   "cell_type": "markdown",
   "id": "583485f1-e367-4e9a-812c-65e14f3a390e",
   "metadata": {},
   "source": [
    "## Setup a directory for Ansible roles and clone the Ansible role to install the project\n"
   ]
  },
  {
   "cell_type": "code",
   "execution_count": null,
   "id": "2b42208e-2f3b-4828-a59d-231a7f13ea6b",
   "metadata": {},
   "outputs": [],
   "source": [
    "%%bash\n",
    "mkdir -p ~/.ansible/roles/\n",
    "git clone https://github.com/computate-org/computate_project.git ~/.ansible/roles/computate.computate_project\n"
   ]
  },
  {
   "cell_type": "markdown",
   "id": "0bc2cc7e-360b-4f87-b091-a0a6811b8e9a",
   "metadata": {},
   "source": [
    "## Run the Ansible Playbook to install the project\n"
   ]
  },
  {
   "cell_type": "code",
   "execution_count": null,
   "id": "3d0f0a74-4b55-45f2-9c9c-c38bb6d333be",
   "metadata": {},
   "outputs": [],
   "source": [
    "%%bash\n",
    "ansible-playbook ~/smartabyar-smartvillage/install.yml -e SYSTEMD_ENABLED=false\n"
   ]
  },
  {
   "cell_type": "markdown",
   "id": "353bed86-20d9-4d37-8d10-b11f6cc4c19a",
   "metadata": {},
   "source": [
    "## Install the MongoDB NOSQL Database in the OpenShift Developer Sandbox\n"
   ]
  },
  {
   "cell_type": "code",
   "execution_count": null,
   "id": "73481ff1-c8ea-4b9d-b093-a538dc433eac",
   "metadata": {},
   "outputs": [],
   "source": [
    "%%bash\n",
    "ansible-playbook ~/smartvillage-operator/apply-edgemongodb.yaml \\\n",
    "  -e ansible_operator_meta_namespace=$(oc get project -o jsonpath={.items[0].metadata.name}) \\\n",
    "  -e crd_path=~/smartvillage-operator/kustomize/overlays/sandbox/edgemongodbs/mongodb/edgemongodb.yaml\n"
   ]
  },
  {
   "cell_type": "markdown",
   "id": "4127605f-deeb-4651-ad3c-40d1953e546c",
   "metadata": {},
   "source": [
    "## Install the RabbitMQ in the OpenShift Developer Sandbox\n"
   ]
  },
  {
   "cell_type": "code",
   "execution_count": null,
   "id": "7ea2f43d-f9a5-49e3-a727-2624b516c3fa",
   "metadata": {},
   "outputs": [],
   "source": [
    "%%bash\n",
    "ansible-playbook ~/smartvillage-operator/apply-edgerabbitmq.yaml \\\n",
    "  -e ansible_operator_meta_namespace=$(oc get project -o jsonpath={.items[0].metadata.name}) \\\n",
    "  -e crd_path=~/smartvillage-operator/kustomize/overlays/sandbox/edgerabbitmqs/rabbitmq/edgerabbitmq.yaml\n"
   ]
  },
  {
   "cell_type": "markdown",
   "id": "e9e1f295-bfd5-42ce-88d3-5d046649d08a",
   "metadata": {},
   "source": [
    "## Install postgres in the OpenShift Developer Sandbox\n"
   ]
  },
  {
   "cell_type": "code",
   "execution_count": null,
   "id": "392b71d9-2b96-4a80-9aab-061e9ceca75d",
   "metadata": {},
   "outputs": [],
   "source": [
    "%%bash\n",
    "oc create configmap smartvillage-db-create --from-file ~/smartabyar-smartvillage/src/main/resources/sql/db-create.sql\n",
    "\n",
    "ansible-playbook ~/smartvillage-operator/apply-edgepostgres.yaml \\\n",
    "  -e ansible_operator_meta_namespace=$(oc get project -o jsonpath={.items[0].metadata.name}) \\\n",
    "  -e crd_path=~/smartvillage-operator/kustomize/overlays/sandbox/edgepostgress/postgres/edgepostgres.yaml\n"
   ]
  },
  {
   "cell_type": "markdown",
   "id": "dbb993a7-2502-4ec4-b22e-5743f6c58b2f",
   "metadata": {},
   "source": [
    "## Install the scorpiobroker Context Broker in the OpenShift Developer Sandbox\n"
   ]
  },
  {
   "cell_type": "code",
   "execution_count": null,
   "id": "2f793aba-a313-4936-bd6b-ba6f571b47ae",
   "metadata": {},
   "outputs": [],
   "source": [
    "%%bash\n",
    "ansible-playbook ~/smartvillage-operator/apply-scorpiobroker.yaml \\\n",
    "  -e ansible_operator_meta_namespace=$(oc get project -o jsonpath={.items[0].metadata.name}) \\\n",
    "  -e crd_path=~/smartvillage-operator/kustomize/overlays/sandbox/scorpiobrokers/scorpiobroker/scorpiobroker.yaml\n"
   ]
  },
  {
   "cell_type": "markdown",
   "id": "9002fd7d-ea74-4ddc-8462-b2f29656dcd6",
   "metadata": {},
   "source": [
    "## Install the IoT Agent JSON in the OpenShift Developer Sandbox\n"
   ]
  },
  {
   "cell_type": "code",
   "execution_count": null,
   "id": "25449fa2-6206-4e24-9358-364a9dca3fa1",
   "metadata": {},
   "outputs": [],
   "source": [
    "%%bash\n",
    "ansible-playbook ~/smartvillage-operator/apply-iotagentjson.yaml \\\n",
    "  -e ansible_operator_meta_namespace=$(oc get project -o jsonpath={.items[0].metadata.name}) \\\n",
    "  -e crd_path=~/smartvillage-operator/kustomize/overlays/sandbox/iotagentjsons/iotagent-json/iotagentjson.yaml\n"
   ]
  },
  {
   "cell_type": "markdown",
   "id": "2af24c45-5b5b-4398-af43-f15c95a02e16",
   "metadata": {},
   "source": [
    "## Install zookeeper in the OpenShift Developer Sandbox\n"
   ]
  },
  {
   "cell_type": "code",
   "execution_count": null,
   "id": "2c7a034f-f72e-4a66-a803-9d4ffbdf9705",
   "metadata": {},
   "outputs": [],
   "source": [
    "%%bash\n",
    "ansible-playbook ~/smartvillage-operator/apply-edgezookeeper.yaml \\\n",
    "  -e ansible_operator_meta_namespace=$(oc get project -o jsonpath={.items[0].metadata.name}) \\\n",
    "  -e crd_path=~/smartvillage-operator/kustomize/overlays/sandbox/edgezookeepers/default/edgezookeeper.yaml\n"
   ]
  },
  {
   "cell_type": "markdown",
   "id": "a193881e-e64c-41fa-bdf2-cca54ebca258",
   "metadata": {},
   "source": [
    "## Install solr in the OpenShift Developer Sandbox\n"
   ]
  },
  {
   "cell_type": "code",
   "execution_count": null,
   "id": "a2ac6206-71e9-421d-aba6-ead5d515caf3",
   "metadata": {},
   "outputs": [],
   "source": [
    "%%bash\n",
    "oc apply -k ~/smartvillage-operator/kustomize/overlays/sandbox/edgesolrs/default/configmaps/\n",
    "\n",
    "ansible-playbook ~/smartvillage-operator/apply-edgesolr.yaml \\\n",
    "  -e ansible_operator_meta_namespace=$(oc get project -o jsonpath={.items[0].metadata.name}) \\\n",
    "  -e crd_path=~/smartvillage-operator/kustomize/overlays/sandbox/edgesolrs/default/edgesolrs/default/edgesolr.yaml\n"
   ]
  },
  {
   "cell_type": "markdown",
   "id": "77aad15d-8a67-4ec0-9735-8c24cab40be1",
   "metadata": {},
   "source": [
    "## Install the SmartaByarSmartVillage in the OpenShift Developer Sandbox\n"
   ]
  },
  {
   "cell_type": "code",
   "execution_count": 22,
   "id": "4aba5e5d-df3c-4fdf-92a5-b105ddeb33ea",
   "metadata": {},
   "outputs": [
    {
     "name": "stdout",
     "output_type": "stream",
     "text": [
      "secret/smartvillage unchanged\n"
     ]
    },
    {
     "name": "stderr",
     "output_type": "stream",
     "text": [
      "[WARNING]: No inventory was parsed, only implicit localhost is available\n",
      "[WARNING]: provided hosts list is empty, only localhost is available. Note that\n",
      "the implicit localhost does not match 'all'\n"
     ]
    },
    {
     "name": "stdout",
     "output_type": "stream",
     "text": [
      "\n",
      "PLAY [Install a SmartaByarSmartVillage resource from OpenShift] ****************\n",
      "\n",
      "TASK [fail] ********************************************************************\n",
      "skipping: [localhost]\n",
      "\n",
      "TASK [Query SmartaByarSmartVillage] ********************************************\n",
      "ok: [localhost]\n",
      "\n",
      "TASK [Set crd var] *************************************************************\n",
      "ok: [localhost]\n",
      "\n",
      "TASK [Set name var] ************************************************************\n",
      "ok: [localhost]\n",
      "\n",
      "TASK [Set namespace var] *******************************************************\n",
      "skipping: [localhost]\n",
      "\n",
      "TASK [smart-data-model-vars : Check for ENTITY_TYPE var] ***********************\n",
      "skipping: [localhost]\n",
      "\n",
      "TASK [smart-data-model-vars : Load SmartaByarSmartVillage smart data model specific schema] ***\n",
      "ok: [localhost]\n",
      "\n",
      "TASK [smart-data-model-vars : Load SmartaByarSmartVillage smart data model specific values] ***\n",
      "ok: [localhost]\n",
      "\n",
      "TASK [apply-smartabyarsmartvillage : Skip site-nodeport NodePort service on OpenShift] ***\n",
      "skipping: [localhost]\n",
      "\n",
      "TASK [apply-smartabyarsmartvillage : Install smartvillage-web service on OpenShift] ***\n",
      "ok: [localhost]\n",
      "\n",
      "TASK [apply-smartabyarsmartvillage : Install smartvillage-web route on OpenShift] ***\n",
      "ok: [localhost]\n",
      "\n",
      "TASK [apply-smartabyarsmartvillage : Install ngsild-smartvillage-sync service on OpenShift] ***\n",
      "ok: [localhost]\n",
      "\n",
      "TASK [apply-smartabyarsmartvillage : Query site host name] *********************\n",
      "ok: [localhost]\n",
      "\n",
      "TASK [apply-smartabyarsmartvillage : Install smartvillage-web deployment on OpenShift] ***\n",
      "ok: [localhost]\n",
      "\n",
      "TASK [apply-smartabyarsmartvillage : Install smartvillage-worker deployment on OpenShift] ***\n",
      "ok: [localhost]\n",
      "\n",
      "TASK [apply-smartabyarsmartvillage : Install smartvillage-sumo deployment on OpenShift] ***\n",
      "ok: [localhost]\n",
      "\n",
      "TASK [apply-smartabyarsmartvillage : Install smartvillage-orionld-sync deployment on OpenShift] ***\n",
      "ok: [localhost]\n",
      "\n",
      "PLAY RECAP *********************************************************************\n",
      "localhost                  : ok=13   changed=0    unreachable=0    failed=0    skipped=4    rescued=0    ignored=0   \n",
      "\n"
     ]
    }
   ],
   "source": [
    "%%bash\n",
    "oc apply -f ~/smartvillage-operator/static/demo-auth-secret.yaml\n",
    "\n",
    "ansible-playbook ~/smartvillage-operator/apply-smartabyarsmartvillage.yaml \\\n",
    "  -e ansible_operator_meta_namespace=$(oc get project -o jsonpath={.items[0].metadata.name}) \\\n",
    "  -e crd_path=~/smartvillage-operator/kustomize/overlays/sandbox/smartabyarsmartvillages/smartvillage/smartabyarsmartvillage.yaml\n"
   ]
  },
  {
   "cell_type": "code",
   "execution_count": null,
   "id": "dcfa5d43-2b8d-400e-a9ad-abebcb926597",
   "metadata": {},
   "outputs": [],
   "source": []
  }
 ],
 "metadata": {
  "kernelspec": {
   "display_name": "Python 3.9",
   "language": "python",
   "name": "python3"
  },
  "language_info": {
   "codemirror_mode": {
    "name": "ipython",
    "version": 3
   },
   "file_extension": ".py",
   "mimetype": "text/x-python",
   "name": "python",
   "nbconvert_exporter": "python",
   "pygments_lexer": "ipython3",
   "version": "3.9.16"
  }
 },
 "nbformat": 4,
 "nbformat_minor": 5
}
