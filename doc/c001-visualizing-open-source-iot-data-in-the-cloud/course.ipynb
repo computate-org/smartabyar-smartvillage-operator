{
 "cells": [
  {
   "cell_type": "markdown",
   "id": "5864f087-5933-4467-a7e8-4677f6dc1707",
   "metadata": {
    "tags": []
   },
   "source": [
    "# Install FIWARE applications\n",
    "## Install the MongoDB NoSQL database"
   ]
  },
  {
   "cell_type": "code",
   "execution_count": null,
   "id": "38b8ab03-3973-46b0-b674-839491acef65",
   "metadata": {},
   "outputs": [],
   "source": [
    "# Install prerequisite helm binary\n",
    "\n",
    "Download the latest [helm binary here](https://github.com/helm/helm/releases), I recommend the Linux amd64 binary if you are on a Linux x86_64 system. \n"
   ]
  },
  {
   "cell_type": "code",
   "execution_count": 4,
   "id": "9e5a0a60-d096-4e4b-a1ca-c260a51eaba6",
   "metadata": {},
   "outputs": [
    {
     "name": "stderr",
     "output_type": "stream",
     "text": [
      "  % Total    % Received % Xferd  Average Speed   Time    Time     Time  Current\n",
      "                                 Dload  Upload   Total   Spent    Left  Speed\n",
      "100 15.4M  100 15.4M    0     0  66.2M      0 --:--:-- --:--:-- --:--:-- 66.2M\n"
     ]
    },
    {
     "name": "stdout",
     "output_type": "stream",
     "text": [
      "linux-amd64/helm\n",
      "linux-amd64/LICENSE\n",
      "linux-amd64/README.md\n",
      "/opt/app-root/src/.local/bin/helm\n"
     ]
    }
   ],
   "source": [
    "%%bash\n",
    "curl https://get.helm.sh/helm-v3.13.2-linux-amd64.tar.gz -o /tmp/helm-v3.13.2-linux-amd64.tar.gz\n",
    "mkdir -p ~/.local/opt/helm/ ~/.local/bin/\n",
    "tar xvf /tmp/helm-v3.13.2-linux-amd64.tar.gz --strip-components=1 -C ~/.local/opt/helm/\n",
    "cp ~/.local/opt/helm/helm ~/.local/bin/\n",
    "which helm\n"
   ]
  },
  {
   "cell_type": "code",
   "execution_count": null,
   "id": "ee2ad635-7fce-44eb-8d44-e52f52f36faf",
   "metadata": {},
   "outputs": [],
   "source": [
    "## Set up a new Python virtualenv\n"
   ]
  },
  {
   "cell_type": "code",
   "execution_count": 7,
   "id": "6dd3bcc0-b52a-485c-9aa7-50445bc85cdc",
   "metadata": {},
   "outputs": [
    {
     "name": "stdout",
     "output_type": "stream",
     "text": [
      "Collecting virtualenv\n",
      "  Downloading virtualenv-20.25.0-py3-none-any.whl (3.8 MB)\n",
      "     ━━━━━━━━━━━━━━━━━━━━━━━━━━━━━━━━━━━━━━━━ 3.8/3.8 MB 41.0 MB/s eta 0:00:00\n",
      "Requirement already satisfied: platformdirs<5,>=3.9.1 in /opt/app-root/lib/python3.9/site-packages (from virtualenv) (3.10.0)\n",
      "Collecting filelock<4,>=3.12.2\n",
      "  Downloading filelock-3.13.1-py3-none-any.whl (11 kB)\n",
      "Collecting distlib<1,>=0.3.7\n",
      "  Downloading distlib-0.3.8-py2.py3-none-any.whl (468 kB)\n",
      "     ━━━━━━━━━━━━━━━━━━━━━━━━━━━━━━━━━━━━━ 468.9/468.9 kB 288.8 MB/s eta 0:00:00\n",
      "Installing collected packages: distlib, filelock, virtualenv\n",
      "Successfully installed distlib-0.3.8 filelock-3.13.1 virtualenv-20.25.0\n"
     ]
    },
    {
     "name": "stderr",
     "output_type": "stream",
     "text": [
      "\n",
      "[notice] A new release of pip available: 22.2.2 -> 23.3.2\n",
      "[notice] To update, run: pip install --upgrade pip\n"
     ]
    },
    {
     "name": "stdout",
     "output_type": "stream",
     "text": [
      "created virtual environment CPython3.9.16.final.0-64 in 466ms\n",
      "  creator CPython3Posix(dest=/opt/app-root/src/python, clear=False, no_vcs_ignore=False, global=False)\n",
      "  seeder FromAppData(download=False, pip=bundle, setuptools=bundle, wheel=bundle, via=copy, app_data_dir=/opt/app-root/src/.local/share/virtualenv)\n",
      "    added seed packages: pip==23.3.1, setuptools==69.0.2, wheel==0.42.0\n",
      "  activators BashActivator,CShellActivator,FishActivator,NushellActivator,PowerShellActivator,PythonActivator\n",
      "source ~/python/bin/activate\n",
      "/opt/app-root/src/python/bin/python\n"
     ]
    }
   ],
   "source": [
    "%%bash\n",
    "pip install virtualenv\n",
    "virtualenv ~/python\n",
    "echo \"source ~/python/bin/activate\" | tee -a ~/.bashrc\n",
    "source ~/.bashrc\n",
    "which python\n"
   ]
  },
  {
   "cell_type": "code",
   "execution_count": 19,
   "id": "6ee48b21-a3f4-431b-b457-5cce96e123d9",
   "metadata": {},
   "outputs": [],
   "source": [
    "## Install the latest Ansible\n"
   ]
  },
  {
   "cell_type": "code",
   "execution_count": 14,
   "id": "ff1d7dc2-e448-4df5-a186-b334cc6aee1f",
   "metadata": {},
   "outputs": [
    {
     "name": "stdout",
     "output_type": "stream",
     "text": [
      "Requirement already satisfied: setuptools_rust in /opt/app-root/lib/python3.9/site-packages (1.8.1)\n",
      "Requirement already satisfied: wheel in /opt/app-root/lib/python3.9/site-packages (0.38.4)\n",
      "Requirement already satisfied: setuptools>=62.4 in /opt/app-root/lib/python3.9/site-packages (from setuptools_rust) (69.0.2)\n",
      "Requirement already satisfied: semantic-version<3,>=2.8.2 in /opt/app-root/lib/python3.9/site-packages (from setuptools_rust) (2.10.0)\n",
      "Requirement already satisfied: tomli>=1.2.1 in /opt/app-root/lib/python3.9/site-packages (from setuptools_rust) (2.0.1)\n",
      "Requirement already satisfied: pip in /opt/app-root/lib/python3.9/site-packages (23.3.2)\n",
      "Requirement already satisfied: ansible in /opt/app-root/lib/python3.9/site-packages (8.7.0)\n",
      "Requirement already satisfied: kubernetes in /opt/app-root/lib/python3.9/site-packages (28.1.0)\n",
      "Requirement already satisfied: openshift in /opt/app-root/lib/python3.9/site-packages (0.13.2)\n",
      "Requirement already satisfied: jmespath in /opt/app-root/lib/python3.9/site-packages (1.0.1)\n",
      "Requirement already satisfied: ansible-core~=2.15.7 in /opt/app-root/lib/python3.9/site-packages (from ansible) (2.15.8)\n",
      "Requirement already satisfied: certifi>=14.05.14 in /opt/app-root/lib/python3.9/site-packages (from kubernetes) (2023.7.22)\n",
      "Requirement already satisfied: six>=1.9.0 in /opt/app-root/lib/python3.9/site-packages (from kubernetes) (1.16.0)\n",
      "Requirement already satisfied: python-dateutil>=2.5.3 in /opt/app-root/lib/python3.9/site-packages (from kubernetes) (2.8.2)\n",
      "Requirement already satisfied: pyyaml>=5.4.1 in /opt/app-root/lib/python3.9/site-packages (from kubernetes) (6.0.1)\n",
      "Requirement already satisfied: google-auth>=1.0.1 in /opt/app-root/lib/python3.9/site-packages (from kubernetes) (2.25.2)\n",
      "Requirement already satisfied: websocket-client!=0.40.0,!=0.41.*,!=0.42.*,>=0.32.0 in /opt/app-root/lib/python3.9/site-packages (from kubernetes) (1.6.1)\n",
      "Requirement already satisfied: requests in /opt/app-root/lib/python3.9/site-packages (from kubernetes) (2.31.0)\n",
      "Requirement already satisfied: requests-oauthlib in /opt/app-root/lib/python3.9/site-packages (from kubernetes) (1.3.1)\n",
      "Requirement already satisfied: oauthlib>=3.2.2 in /opt/app-root/lib/python3.9/site-packages (from kubernetes) (3.2.2)\n",
      "Requirement already satisfied: urllib3<2.0,>=1.24.2 in /opt/app-root/lib/python3.9/site-packages (from kubernetes) (1.26.18)\n",
      "Requirement already satisfied: python-string-utils in /opt/app-root/lib/python3.9/site-packages (from openshift) (1.0.0)\n",
      "Requirement already satisfied: jinja2>=3.0.0 in /opt/app-root/lib/python3.9/site-packages (from ansible-core~=2.15.7->ansible) (3.1.2)\n",
      "Requirement already satisfied: cryptography in /opt/app-root/lib/python3.9/site-packages (from ansible-core~=2.15.7->ansible) (41.0.7)\n",
      "Requirement already satisfied: packaging in /opt/app-root/lib/python3.9/site-packages (from ansible-core~=2.15.7->ansible) (23.1)\n",
      "Requirement already satisfied: resolvelib<1.1.0,>=0.5.3 in /opt/app-root/lib/python3.9/site-packages (from ansible-core~=2.15.7->ansible) (1.0.1)\n",
      "Requirement already satisfied: importlib-resources<5.1,>=5.0 in /opt/app-root/lib/python3.9/site-packages (from ansible-core~=2.15.7->ansible) (5.0.7)\n",
      "Requirement already satisfied: cachetools<6.0,>=2.0.0 in /opt/app-root/lib/python3.9/site-packages (from google-auth>=1.0.1->kubernetes) (5.3.2)\n",
      "Requirement already satisfied: pyasn1-modules>=0.2.1 in /opt/app-root/lib/python3.9/site-packages (from google-auth>=1.0.1->kubernetes) (0.3.0)\n",
      "Requirement already satisfied: rsa<5,>=3.1.4 in /opt/app-root/lib/python3.9/site-packages (from google-auth>=1.0.1->kubernetes) (4.9)\n",
      "Requirement already satisfied: charset-normalizer<4,>=2 in /opt/app-root/lib/python3.9/site-packages (from requests->kubernetes) (3.2.0)\n",
      "Requirement already satisfied: idna<4,>=2.5 in /opt/app-root/lib/python3.9/site-packages (from requests->kubernetes) (3.4)\n",
      "Requirement already satisfied: MarkupSafe>=2.0 in /opt/app-root/lib/python3.9/site-packages (from jinja2>=3.0.0->ansible-core~=2.15.7->ansible) (2.1.3)\n",
      "Requirement already satisfied: pyasn1<0.6.0,>=0.4.6 in /opt/app-root/lib/python3.9/site-packages (from pyasn1-modules>=0.2.1->google-auth>=1.0.1->kubernetes) (0.5.1)\n",
      "Requirement already satisfied: cffi>=1.12 in /opt/app-root/lib/python3.9/site-packages (from cryptography->ansible-core~=2.15.7->ansible) (1.15.1)\n",
      "Requirement already satisfied: pycparser in /opt/app-root/lib/python3.9/site-packages (from cffi>=1.12->cryptography->ansible-core~=2.15.7->ansible) (2.21)\n",
      "/opt/app-root/bin/ansible-playbook\n"
     ]
    }
   ],
   "source": [
    "%%bash\n",
    "pip install setuptools_rust wheel\n",
    "pip install --upgrade pip\n",
    "pip install ansible kubernetes openshift jmespath --upgrade\n",
    "which ansible-playbook\n"
   ]
  },
  {
   "cell_type": "markdown",
   "id": "2e046b36-22f9-42ce-9482-6308a9b2ac6e",
   "metadata": {},
   "source": [
    "# Setup the project\n",
    "\n",
    "## Setup the directory for the project and clone the git repository into it \n"
   ]
  },
  {
   "cell_type": "code",
   "execution_count": 21,
   "id": "6fa7e13d-44c8-4f9b-9f59-503a66457ee4",
   "metadata": {},
   "outputs": [
    {
     "name": "stderr",
     "output_type": "stream",
     "text": [
      "fatal: destination path '/opt/app-root/src/smartabyar-smartvillage' already exists and is not an empty directory.\n"
     ]
    },
    {
     "ename": "CalledProcessError",
     "evalue": "Command 'b'git clone https://github.com/computate-org/smartabyar-smartvillage.git ~/smartabyar-smartvillage\\n'' returned non-zero exit status 128.",
     "output_type": "error",
     "traceback": [
      "\u001b[0;31m---------------------------------------------------------------------------\u001b[0m",
      "\u001b[0;31mCalledProcessError\u001b[0m                        Traceback (most recent call last)",
      "Cell \u001b[0;32mIn[21], line 1\u001b[0m\n\u001b[0;32m----> 1\u001b[0m \u001b[43mget_ipython\u001b[49m\u001b[43m(\u001b[49m\u001b[43m)\u001b[49m\u001b[38;5;241;43m.\u001b[39;49m\u001b[43mrun_cell_magic\u001b[49m\u001b[43m(\u001b[49m\u001b[38;5;124;43m'\u001b[39;49m\u001b[38;5;124;43mbash\u001b[39;49m\u001b[38;5;124;43m'\u001b[39;49m\u001b[43m,\u001b[49m\u001b[43m \u001b[49m\u001b[38;5;124;43m'\u001b[39;49m\u001b[38;5;124;43m'\u001b[39;49m\u001b[43m,\u001b[49m\u001b[43m \u001b[49m\u001b[38;5;124;43m'\u001b[39;49m\u001b[38;5;124;43mgit clone https://github.com/computate-org/smartabyar-smartvillage.git ~/smartabyar-smartvillage\u001b[39;49m\u001b[38;5;130;43;01m\\n\u001b[39;49;00m\u001b[38;5;124;43m'\u001b[39;49m\u001b[43m)\u001b[49m\n",
      "File \u001b[0;32m/opt/app-root/lib64/python3.9/site-packages/IPython/core/interactiveshell.py:2478\u001b[0m, in \u001b[0;36mInteractiveShell.run_cell_magic\u001b[0;34m(self, magic_name, line, cell)\u001b[0m\n\u001b[1;32m   2476\u001b[0m \u001b[38;5;28;01mwith\u001b[39;00m \u001b[38;5;28mself\u001b[39m\u001b[38;5;241m.\u001b[39mbuiltin_trap:\n\u001b[1;32m   2477\u001b[0m     args \u001b[38;5;241m=\u001b[39m (magic_arg_s, cell)\n\u001b[0;32m-> 2478\u001b[0m     result \u001b[38;5;241m=\u001b[39m \u001b[43mfn\u001b[49m\u001b[43m(\u001b[49m\u001b[38;5;241;43m*\u001b[39;49m\u001b[43margs\u001b[49m\u001b[43m,\u001b[49m\u001b[43m \u001b[49m\u001b[38;5;241;43m*\u001b[39;49m\u001b[38;5;241;43m*\u001b[39;49m\u001b[43mkwargs\u001b[49m\u001b[43m)\u001b[49m\n\u001b[1;32m   2480\u001b[0m \u001b[38;5;66;03m# The code below prevents the output from being displayed\u001b[39;00m\n\u001b[1;32m   2481\u001b[0m \u001b[38;5;66;03m# when using magics with decodator @output_can_be_silenced\u001b[39;00m\n\u001b[1;32m   2482\u001b[0m \u001b[38;5;66;03m# when the last Python token in the expression is a ';'.\u001b[39;00m\n\u001b[1;32m   2483\u001b[0m \u001b[38;5;28;01mif\u001b[39;00m \u001b[38;5;28mgetattr\u001b[39m(fn, magic\u001b[38;5;241m.\u001b[39mMAGIC_OUTPUT_CAN_BE_SILENCED, \u001b[38;5;28;01mFalse\u001b[39;00m):\n",
      "File \u001b[0;32m/opt/app-root/lib64/python3.9/site-packages/IPython/core/magics/script.py:154\u001b[0m, in \u001b[0;36mScriptMagics._make_script_magic.<locals>.named_script_magic\u001b[0;34m(line, cell)\u001b[0m\n\u001b[1;32m    152\u001b[0m \u001b[38;5;28;01melse\u001b[39;00m:\n\u001b[1;32m    153\u001b[0m     line \u001b[38;5;241m=\u001b[39m script\n\u001b[0;32m--> 154\u001b[0m \u001b[38;5;28;01mreturn\u001b[39;00m \u001b[38;5;28;43mself\u001b[39;49m\u001b[38;5;241;43m.\u001b[39;49m\u001b[43mshebang\u001b[49m\u001b[43m(\u001b[49m\u001b[43mline\u001b[49m\u001b[43m,\u001b[49m\u001b[43m \u001b[49m\u001b[43mcell\u001b[49m\u001b[43m)\u001b[49m\n",
      "File \u001b[0;32m/opt/app-root/lib64/python3.9/site-packages/IPython/core/magics/script.py:314\u001b[0m, in \u001b[0;36mScriptMagics.shebang\u001b[0;34m(self, line, cell)\u001b[0m\n\u001b[1;32m    309\u001b[0m \u001b[38;5;28;01mif\u001b[39;00m args\u001b[38;5;241m.\u001b[39mraise_error \u001b[38;5;129;01mand\u001b[39;00m p\u001b[38;5;241m.\u001b[39mreturncode \u001b[38;5;241m!=\u001b[39m \u001b[38;5;241m0\u001b[39m:\n\u001b[1;32m    310\u001b[0m     \u001b[38;5;66;03m# If we get here and p.returncode is still None, we must have\u001b[39;00m\n\u001b[1;32m    311\u001b[0m     \u001b[38;5;66;03m# killed it but not yet seen its return code. We don't wait for it,\u001b[39;00m\n\u001b[1;32m    312\u001b[0m     \u001b[38;5;66;03m# in case it's stuck in uninterruptible sleep. -9 = SIGKILL\u001b[39;00m\n\u001b[1;32m    313\u001b[0m     rc \u001b[38;5;241m=\u001b[39m p\u001b[38;5;241m.\u001b[39mreturncode \u001b[38;5;129;01mor\u001b[39;00m \u001b[38;5;241m-\u001b[39m\u001b[38;5;241m9\u001b[39m\n\u001b[0;32m--> 314\u001b[0m     \u001b[38;5;28;01mraise\u001b[39;00m CalledProcessError(rc, cell)\n",
      "\u001b[0;31mCalledProcessError\u001b[0m: Command 'b'git clone https://github.com/computate-org/smartabyar-smartvillage.git ~/smartabyar-smartvillage\\n'' returned non-zero exit status 128."
     ]
    }
   ],
   "source": [
    "%%bash\n",
    "git clone https://github.com/computate-org/smartabyar-smartvillage.git ~/smartabyar-smartvillage\n"
   ]
  },
  {
   "cell_type": "markdown",
   "id": "583485f1-e367-4e9a-812c-65e14f3a390e",
   "metadata": {},
   "source": [
    "## Setup a directory for Ansible roles and clone the Ansible role to install the project\n"
   ]
  },
  {
   "cell_type": "code",
   "execution_count": 22,
   "id": "2b42208e-2f3b-4828-a59d-231a7f13ea6b",
   "metadata": {},
   "outputs": [
    {
     "name": "stderr",
     "output_type": "stream",
     "text": [
      "fatal: destination path '/opt/app-root/src/.ansible/roles/computate.computate_project' already exists and is not an empty directory.\n"
     ]
    },
    {
     "ename": "CalledProcessError",
     "evalue": "Command 'b'mkdir -p ~/.ansible/roles/\\ngit clone https://github.com/computate-org/computate_project.git ~/.ansible/roles/computate.computate_project\\n'' returned non-zero exit status 128.",
     "output_type": "error",
     "traceback": [
      "\u001b[0;31m---------------------------------------------------------------------------\u001b[0m",
      "\u001b[0;31mCalledProcessError\u001b[0m                        Traceback (most recent call last)",
      "Cell \u001b[0;32mIn[22], line 1\u001b[0m\n\u001b[0;32m----> 1\u001b[0m \u001b[43mget_ipython\u001b[49m\u001b[43m(\u001b[49m\u001b[43m)\u001b[49m\u001b[38;5;241;43m.\u001b[39;49m\u001b[43mrun_cell_magic\u001b[49m\u001b[43m(\u001b[49m\u001b[38;5;124;43m'\u001b[39;49m\u001b[38;5;124;43mbash\u001b[39;49m\u001b[38;5;124;43m'\u001b[39;49m\u001b[43m,\u001b[49m\u001b[43m \u001b[49m\u001b[38;5;124;43m'\u001b[39;49m\u001b[38;5;124;43m'\u001b[39;49m\u001b[43m,\u001b[49m\u001b[43m \u001b[49m\u001b[38;5;124;43m'\u001b[39;49m\u001b[38;5;124;43mmkdir -p ~/.ansible/roles/\u001b[39;49m\u001b[38;5;130;43;01m\\n\u001b[39;49;00m\u001b[38;5;124;43mgit clone https://github.com/computate-org/computate_project.git ~/.ansible/roles/computate.computate_project\u001b[39;49m\u001b[38;5;130;43;01m\\n\u001b[39;49;00m\u001b[38;5;124;43m'\u001b[39;49m\u001b[43m)\u001b[49m\n",
      "File \u001b[0;32m/opt/app-root/lib64/python3.9/site-packages/IPython/core/interactiveshell.py:2478\u001b[0m, in \u001b[0;36mInteractiveShell.run_cell_magic\u001b[0;34m(self, magic_name, line, cell)\u001b[0m\n\u001b[1;32m   2476\u001b[0m \u001b[38;5;28;01mwith\u001b[39;00m \u001b[38;5;28mself\u001b[39m\u001b[38;5;241m.\u001b[39mbuiltin_trap:\n\u001b[1;32m   2477\u001b[0m     args \u001b[38;5;241m=\u001b[39m (magic_arg_s, cell)\n\u001b[0;32m-> 2478\u001b[0m     result \u001b[38;5;241m=\u001b[39m \u001b[43mfn\u001b[49m\u001b[43m(\u001b[49m\u001b[38;5;241;43m*\u001b[39;49m\u001b[43margs\u001b[49m\u001b[43m,\u001b[49m\u001b[43m \u001b[49m\u001b[38;5;241;43m*\u001b[39;49m\u001b[38;5;241;43m*\u001b[39;49m\u001b[43mkwargs\u001b[49m\u001b[43m)\u001b[49m\n\u001b[1;32m   2480\u001b[0m \u001b[38;5;66;03m# The code below prevents the output from being displayed\u001b[39;00m\n\u001b[1;32m   2481\u001b[0m \u001b[38;5;66;03m# when using magics with decodator @output_can_be_silenced\u001b[39;00m\n\u001b[1;32m   2482\u001b[0m \u001b[38;5;66;03m# when the last Python token in the expression is a ';'.\u001b[39;00m\n\u001b[1;32m   2483\u001b[0m \u001b[38;5;28;01mif\u001b[39;00m \u001b[38;5;28mgetattr\u001b[39m(fn, magic\u001b[38;5;241m.\u001b[39mMAGIC_OUTPUT_CAN_BE_SILENCED, \u001b[38;5;28;01mFalse\u001b[39;00m):\n",
      "File \u001b[0;32m/opt/app-root/lib64/python3.9/site-packages/IPython/core/magics/script.py:154\u001b[0m, in \u001b[0;36mScriptMagics._make_script_magic.<locals>.named_script_magic\u001b[0;34m(line, cell)\u001b[0m\n\u001b[1;32m    152\u001b[0m \u001b[38;5;28;01melse\u001b[39;00m:\n\u001b[1;32m    153\u001b[0m     line \u001b[38;5;241m=\u001b[39m script\n\u001b[0;32m--> 154\u001b[0m \u001b[38;5;28;01mreturn\u001b[39;00m \u001b[38;5;28;43mself\u001b[39;49m\u001b[38;5;241;43m.\u001b[39;49m\u001b[43mshebang\u001b[49m\u001b[43m(\u001b[49m\u001b[43mline\u001b[49m\u001b[43m,\u001b[49m\u001b[43m \u001b[49m\u001b[43mcell\u001b[49m\u001b[43m)\u001b[49m\n",
      "File \u001b[0;32m/opt/app-root/lib64/python3.9/site-packages/IPython/core/magics/script.py:314\u001b[0m, in \u001b[0;36mScriptMagics.shebang\u001b[0;34m(self, line, cell)\u001b[0m\n\u001b[1;32m    309\u001b[0m \u001b[38;5;28;01mif\u001b[39;00m args\u001b[38;5;241m.\u001b[39mraise_error \u001b[38;5;129;01mand\u001b[39;00m p\u001b[38;5;241m.\u001b[39mreturncode \u001b[38;5;241m!=\u001b[39m \u001b[38;5;241m0\u001b[39m:\n\u001b[1;32m    310\u001b[0m     \u001b[38;5;66;03m# If we get here and p.returncode is still None, we must have\u001b[39;00m\n\u001b[1;32m    311\u001b[0m     \u001b[38;5;66;03m# killed it but not yet seen its return code. We don't wait for it,\u001b[39;00m\n\u001b[1;32m    312\u001b[0m     \u001b[38;5;66;03m# in case it's stuck in uninterruptible sleep. -9 = SIGKILL\u001b[39;00m\n\u001b[1;32m    313\u001b[0m     rc \u001b[38;5;241m=\u001b[39m p\u001b[38;5;241m.\u001b[39mreturncode \u001b[38;5;129;01mor\u001b[39;00m \u001b[38;5;241m-\u001b[39m\u001b[38;5;241m9\u001b[39m\n\u001b[0;32m--> 314\u001b[0m     \u001b[38;5;28;01mraise\u001b[39;00m CalledProcessError(rc, cell)\n",
      "\u001b[0;31mCalledProcessError\u001b[0m: Command 'b'mkdir -p ~/.ansible/roles/\\ngit clone https://github.com/computate-org/computate_project.git ~/.ansible/roles/computate.computate_project\\n'' returned non-zero exit status 128."
     ]
    }
   ],
   "source": [
    "%%bash\n",
    "mkdir -p ~/.ansible/roles/\n",
    "git clone https://github.com/computate-org/computate_project.git ~/.ansible/roles/computate.computate_project\n"
   ]
  },
  {
   "cell_type": "markdown",
   "id": "0bc2cc7e-360b-4f87-b091-a0a6811b8e9a",
   "metadata": {},
   "source": [
    "## Run the Ansible Playbook to install the project\n"
   ]
  },
  {
   "cell_type": "code",
   "execution_count": 23,
   "id": "3d0f0a74-4b55-45f2-9c9c-c38bb6d333be",
   "metadata": {},
   "outputs": [
    {
     "name": "stderr",
     "output_type": "stream",
     "text": [
      "[WARNING]: No inventory was parsed, only implicit localhost is available\n",
      "[WARNING]: provided hosts list is empty, only localhost is available. Note that\n",
      "the implicit localhost does not match 'all'\n"
     ]
    },
    {
     "name": "stdout",
     "output_type": "stream",
     "text": [
      "\n",
      "PLAY [Install the smartabyar-smartvillage source code and watch service on the target.] ***\n",
      "\n",
      "TASK [Gathering Facts] *********************************************************\n",
      "ok: [localhost]\n",
      "\n",
      "TASK [Create the /opt/app-root/src source code prefix directory] ***************\n",
      "ok: [localhost]\n",
      "\n",
      "TASK [Clone the git@github.com:computate-org/computate-search.git source code into /opt/app-root/src/computate-search] ***\n",
      "fatal: [localhost]: FAILED! => {\"changed\": false, \"cmd\": [\"/usr/bin/git\", \"fetch\", \"--tags\", \"origin\"], \"msg\": \"Failed to download remote objects and refs:  Host key verification failed.\\r\\nfatal: Could not read from remote repository.\\n\\nPlease make sure you have the correct access rights\\nand the repository exists.\\n\"}\n",
      "...ignoring\n",
      "\n",
      "TASK [Clone the public https://github.com/computate-org/computate-search.git source code into /opt/app-root/src/computate-search] ***\n",
      "changed: [localhost]\n",
      "\n",
      "TASK [Clone the git@github.com:computate-org/computate-vertx.git source code into /opt/app-root/src/computate-vertx] ***\n",
      "fatal: [localhost]: FAILED! => {\"changed\": false, \"cmd\": [\"/usr/bin/git\", \"fetch\", \"--tags\", \"origin\"], \"msg\": \"Failed to download remote objects and refs:  Host key verification failed.\\r\\nfatal: Could not read from remote repository.\\n\\nPlease make sure you have the correct access rights\\nand the repository exists.\\n\"}\n",
      "...ignoring\n",
      "\n",
      "TASK [Clone the public https://github.com/computate-org/computate-vertx.git source code into /opt/app-root/src/computate-vertx] ***\n",
      "changed: [localhost]\n",
      "\n",
      "TASK [Clone the git@github.com:computate-org/computate.git source code into /opt/app-root/src/computate] ***\n",
      "fatal: [localhost]: FAILED! => {\"changed\": false, \"cmd\": [\"/usr/bin/git\", \"fetch\", \"--tags\", \"origin\"], \"msg\": \"Failed to download remote objects and refs:  Host key verification failed.\\r\\nfatal: Could not read from remote repository.\\n\\nPlease make sure you have the correct access rights\\nand the repository exists.\\n\"}\n",
      "...ignoring\n",
      "\n",
      "TASK [Clone the public https://github.com/computate-org/computate.git source code into /opt/app-root/src/computate] ***\n",
      "changed: [localhost]\n",
      "\n",
      "TASK [Clone the git@github.com:computate-org/smartvillage-operator.git source code into /opt/app-root/src/smartvillage-operator] ***\n",
      "fatal: [localhost]: FAILED! => {\"changed\": false, \"cmd\": [\"/usr/bin/git\", \"fetch\", \"--tags\", \"origin\"], \"msg\": \"Failed to download remote objects and refs:  Host key verification failed.\\r\\nfatal: Could not read from remote repository.\\n\\nPlease make sure you have the correct access rights\\nand the repository exists.\\n\"}\n",
      "...ignoring\n",
      "\n",
      "TASK [Clone the public https://github.com/computate-org/smartvillage-operator.git source code into /opt/app-root/src/smartvillage-operator] ***\n",
      "changed: [localhost]\n",
      "\n",
      "TASK [Create the /opt/app-root/src/.ansible/roles/computate.computate_project Ansible Role directory] ***\n",
      "ok: [localhost]\n",
      "\n",
      "TASK [Clone the git@github.com:computate-org/computate_project.git source code into /opt/app-root/src/.ansible/roles/computate.computate_project] ***\n",
      "fatal: [localhost]: FAILED! => {\"changed\": false, \"cmd\": [\"/usr/bin/git\", \"fetch\", \"--tags\", \"origin\"], \"msg\": \"Failed to download remote objects and refs:  Host key verification failed.\\r\\nfatal: Could not read from remote repository.\\n\\nPlease make sure you have the correct access rights\\nand the repository exists.\\n\"}\n",
      "...ignoring\n",
      "\n",
      "TASK [Clone the public https://github.com/computate-org/computate_project.git source code into /opt/app-root/src/.ansible/roles/computate.computate_project] ***\n",
      "changed: [localhost]\n",
      "\n",
      "TASK [include_role : computate.computate_project] ******************************\n",
      "\n",
      "TASK [computate.computate_project : Include default variables in /opt/app-root/src/smartabyar-smartvillage/local/defaults.yml] ***\n",
      "ok: [localhost]\n",
      "\n",
      "TASK [computate.computate_project : Install dependencies as root: java-17-openjdk] ***\n",
      "fatal: [localhost]: FAILED! => {\"changed\": false, \"module_stderr\": \"/bin/sh: line 1: sudo: command not found\\n\", \"module_stdout\": \"\", \"msg\": \"MODULE FAILURE\\nSee stdout/stderr for the exact error\", \"rc\": 127}\n",
      "...ignoring\n",
      "\n",
      "TASK [computate.computate_project : Install dependencies as user: java-17-openjdk] ***\n",
      "changed: [localhost] => (item=java-17-openjdk)\n",
      "\n",
      "TASK [computate.computate_project : Check if git binary exists] ****************\n",
      "ok: [localhost]\n",
      "\n",
      "TASK [computate.computate_project : Check if javac binary exists] **************\n",
      "ok: [localhost]\n",
      "\n",
      "TASK [computate.computate_project : Check for the smartabyar-smartvillage .git directory] ***\n",
      "ok: [localhost]\n",
      "\n",
      "TASK [computate.computate_project : Check for the smartabyar-smartvillage README.md file] ***\n",
      "ok: [localhost]\n",
      "\n",
      "TASK [computate.computate_project : Create the smartabyar-smartvillage source directory /opt/app-root/src/smartabyar-smartvillage] ***\n",
      "skipping: [localhost]\n",
      "\n",
      "TASK [computate.computate_project : Clone the git@github.com:computate-org/smartabyar-smartvillage.git source code into /opt/app-root/src/smartabyar-smartvillage] ***\n",
      "skipping: [localhost]\n",
      "\n",
      "TASK [computate.computate_project : Check for the smartabyar-smartvillage-static .git directory] ***\n",
      "ok: [localhost]\n",
      "\n",
      "TASK [computate.computate_project : Create the smartabyar-smartvillage-static source directory /opt/app-root/src/smartabyar-smartvillage-static] ***\n",
      "ok: [localhost]\n",
      "\n",
      "TASK [computate.computate_project : Clone the git@github.com:computate-org/smartabyar-smartvillage-static.git source code into /opt/app-root/src/smartabyar-smartvillage-static] ***\n",
      "fatal: [localhost]: FAILED! => {\"changed\": false, \"cmd\": \"/usr/bin/git ls-remote git@github.com:computate-org/smartabyar-smartvillage-static.git -h refs/heads/HEAD\", \"msg\": \"Host key verification failed.\\r\\nfatal: Could not read from remote repository.\\n\\nPlease make sure you have the correct access rights\\nand the repository exists.\", \"rc\": 128, \"stderr\": \"Host key verification failed.\\r\\nfatal: Could not read from remote repository.\\n\\nPlease make sure you have the correct access rights\\nand the repository exists.\\n\", \"stderr_lines\": [\"Host key verification failed.\", \"fatal: Could not read from remote repository.\", \"\", \"Please make sure you have the correct access rights\", \"and the repository exists.\"], \"stdout\": \"\", \"stdout_lines\": []}\n",
      "...ignoring\n",
      "\n",
      "TASK [computate.computate_project : Create the project file directory /opt/app-root/src/.metadata/.plugins/org.eclipse.debug.core/.launches] ***\n",
      "ok: [localhost]\n",
      "\n",
      "TASK [computate.computate_project : Create the /opt/app-root/src/.metadata/.plugins/org.eclipse.debug.core/.launches/smartabyar-smartvillage.launch] ***\n",
      "ok: [localhost]\n",
      "\n",
      "TASK [computate.computate_project : Create the /opt/app-root/src/.metadata/.plugins/org.eclipse.debug.core/.launches/smartabyar-smartvillage-OpenApi3Generator.launch] ***\n",
      "changed: [localhost]\n",
      "\n",
      "TASK [computate.computate_project : Create the smartabyar-smartvillage systemd services.] ***\n",
      "skipping: [localhost] => (item={'SITE_NAME': 'smartabyar-smartvillage', 'SITE_SRC': '/opt/app-root/src/smartabyar-smartvillage', 'SITE_PREFIX': '/opt/app-root/src', 'SITE_JAVA_PACKAGE': 'org.computate.smartvillage.enus', 'RELATIVE_PATHS_TO_WATCH': 'src/main/java/org/computate/smartvillage/enus', 'SYSTEMD_ENABLED': False}) \n",
      "skipping: [localhost]\n",
      "\n",
      "TASK [computate.computate_project : Create the {{ item.SITE_NAME }} config dirs.] ***\n",
      "failed: [localhost] (item={'SITE_NAME': 'smartabyar-smartvillage', 'SITE_SRC': '/opt/app-root/src/smartabyar-smartvillage', 'SITE_PREFIX': '/opt/app-root/src', 'SITE_JAVA_PACKAGE': 'org.computate.smartvillage.enus', 'RELATIVE_PATHS_TO_WATCH': 'src/main/java/org/computate/smartvillage/enus', 'SYSTEMD_ENABLED': False}) => {\"ansible_loop_var\": \"item\", \"changed\": false, \"gid\": 1002690000, \"group\": \"1002690000\", \"item\": {\"RELATIVE_PATHS_TO_WATCH\": \"src/main/java/org/computate/smartvillage/enus\", \"SITE_JAVA_PACKAGE\": \"org.computate.smartvillage.enus\", \"SITE_NAME\": \"smartabyar-smartvillage\", \"SITE_PREFIX\": \"/opt/app-root/src\", \"SITE_SRC\": \"/opt/app-root/src/smartabyar-smartvillage\", \"SYSTEMD_ENABLED\": false}, \"mode\": \"02775\", \"msg\": \"chown failed: failed to look up user \", \"owner\": \"1002690000\", \"path\": \"/opt/app-root/src/smartabyar-smartvillage/config\", \"size\": 4096, \"state\": \"directory\", \"uid\": 1002690000}\n",
      "\n",
      "PLAY RECAP *********************************************************************\n",
      "localhost                  : ok=26   changed=7    unreachable=0    failed=1    skipped=3    rescued=0    ignored=7   \n",
      "\n"
     ]
    },
    {
     "ename": "CalledProcessError",
     "evalue": "Command 'b'ansible-playbook ~/smartabyar-smartvillage/install.yml -e SYSTEMD_ENABLED=false\\n'' returned non-zero exit status 2.",
     "output_type": "error",
     "traceback": [
      "\u001b[0;31m---------------------------------------------------------------------------\u001b[0m",
      "\u001b[0;31mCalledProcessError\u001b[0m                        Traceback (most recent call last)",
      "Cell \u001b[0;32mIn[23], line 1\u001b[0m\n\u001b[0;32m----> 1\u001b[0m \u001b[43mget_ipython\u001b[49m\u001b[43m(\u001b[49m\u001b[43m)\u001b[49m\u001b[38;5;241;43m.\u001b[39;49m\u001b[43mrun_cell_magic\u001b[49m\u001b[43m(\u001b[49m\u001b[38;5;124;43m'\u001b[39;49m\u001b[38;5;124;43mbash\u001b[39;49m\u001b[38;5;124;43m'\u001b[39;49m\u001b[43m,\u001b[49m\u001b[43m \u001b[49m\u001b[38;5;124;43m'\u001b[39;49m\u001b[38;5;124;43m'\u001b[39;49m\u001b[43m,\u001b[49m\u001b[43m \u001b[49m\u001b[38;5;124;43m'\u001b[39;49m\u001b[38;5;124;43mansible-playbook ~/smartabyar-smartvillage/install.yml -e SYSTEMD_ENABLED=false\u001b[39;49m\u001b[38;5;130;43;01m\\n\u001b[39;49;00m\u001b[38;5;124;43m'\u001b[39;49m\u001b[43m)\u001b[49m\n",
      "File \u001b[0;32m/opt/app-root/lib64/python3.9/site-packages/IPython/core/interactiveshell.py:2478\u001b[0m, in \u001b[0;36mInteractiveShell.run_cell_magic\u001b[0;34m(self, magic_name, line, cell)\u001b[0m\n\u001b[1;32m   2476\u001b[0m \u001b[38;5;28;01mwith\u001b[39;00m \u001b[38;5;28mself\u001b[39m\u001b[38;5;241m.\u001b[39mbuiltin_trap:\n\u001b[1;32m   2477\u001b[0m     args \u001b[38;5;241m=\u001b[39m (magic_arg_s, cell)\n\u001b[0;32m-> 2478\u001b[0m     result \u001b[38;5;241m=\u001b[39m \u001b[43mfn\u001b[49m\u001b[43m(\u001b[49m\u001b[38;5;241;43m*\u001b[39;49m\u001b[43margs\u001b[49m\u001b[43m,\u001b[49m\u001b[43m \u001b[49m\u001b[38;5;241;43m*\u001b[39;49m\u001b[38;5;241;43m*\u001b[39;49m\u001b[43mkwargs\u001b[49m\u001b[43m)\u001b[49m\n\u001b[1;32m   2480\u001b[0m \u001b[38;5;66;03m# The code below prevents the output from being displayed\u001b[39;00m\n\u001b[1;32m   2481\u001b[0m \u001b[38;5;66;03m# when using magics with decodator @output_can_be_silenced\u001b[39;00m\n\u001b[1;32m   2482\u001b[0m \u001b[38;5;66;03m# when the last Python token in the expression is a ';'.\u001b[39;00m\n\u001b[1;32m   2483\u001b[0m \u001b[38;5;28;01mif\u001b[39;00m \u001b[38;5;28mgetattr\u001b[39m(fn, magic\u001b[38;5;241m.\u001b[39mMAGIC_OUTPUT_CAN_BE_SILENCED, \u001b[38;5;28;01mFalse\u001b[39;00m):\n",
      "File \u001b[0;32m/opt/app-root/lib64/python3.9/site-packages/IPython/core/magics/script.py:154\u001b[0m, in \u001b[0;36mScriptMagics._make_script_magic.<locals>.named_script_magic\u001b[0;34m(line, cell)\u001b[0m\n\u001b[1;32m    152\u001b[0m \u001b[38;5;28;01melse\u001b[39;00m:\n\u001b[1;32m    153\u001b[0m     line \u001b[38;5;241m=\u001b[39m script\n\u001b[0;32m--> 154\u001b[0m \u001b[38;5;28;01mreturn\u001b[39;00m \u001b[38;5;28;43mself\u001b[39;49m\u001b[38;5;241;43m.\u001b[39;49m\u001b[43mshebang\u001b[49m\u001b[43m(\u001b[49m\u001b[43mline\u001b[49m\u001b[43m,\u001b[49m\u001b[43m \u001b[49m\u001b[43mcell\u001b[49m\u001b[43m)\u001b[49m\n",
      "File \u001b[0;32m/opt/app-root/lib64/python3.9/site-packages/IPython/core/magics/script.py:314\u001b[0m, in \u001b[0;36mScriptMagics.shebang\u001b[0;34m(self, line, cell)\u001b[0m\n\u001b[1;32m    309\u001b[0m \u001b[38;5;28;01mif\u001b[39;00m args\u001b[38;5;241m.\u001b[39mraise_error \u001b[38;5;129;01mand\u001b[39;00m p\u001b[38;5;241m.\u001b[39mreturncode \u001b[38;5;241m!=\u001b[39m \u001b[38;5;241m0\u001b[39m:\n\u001b[1;32m    310\u001b[0m     \u001b[38;5;66;03m# If we get here and p.returncode is still None, we must have\u001b[39;00m\n\u001b[1;32m    311\u001b[0m     \u001b[38;5;66;03m# killed it but not yet seen its return code. We don't wait for it,\u001b[39;00m\n\u001b[1;32m    312\u001b[0m     \u001b[38;5;66;03m# in case it's stuck in uninterruptible sleep. -9 = SIGKILL\u001b[39;00m\n\u001b[1;32m    313\u001b[0m     rc \u001b[38;5;241m=\u001b[39m p\u001b[38;5;241m.\u001b[39mreturncode \u001b[38;5;129;01mor\u001b[39;00m \u001b[38;5;241m-\u001b[39m\u001b[38;5;241m9\u001b[39m\n\u001b[0;32m--> 314\u001b[0m     \u001b[38;5;28;01mraise\u001b[39;00m CalledProcessError(rc, cell)\n",
      "\u001b[0;31mCalledProcessError\u001b[0m: Command 'b'ansible-playbook ~/smartabyar-smartvillage/install.yml -e SYSTEMD_ENABLED=false\\n'' returned non-zero exit status 2."
     ]
    }
   ],
   "source": [
    "%%bash\n",
    "ansible-playbook ~/smartabyar-smartvillage/install.yml -e SYSTEMD_ENABLED=false\n"
   ]
  },
  {
   "cell_type": "markdown",
   "id": "353bed86-20d9-4d37-8d10-b11f6cc4c19a",
   "metadata": {},
   "source": [
    "## Install the MongoDB NOSQL Database in the OpenShift Developer Sandbox\n"
   ]
  },
  {
   "cell_type": "code",
   "execution_count": 25,
   "id": "73481ff1-c8ea-4b9d-b093-a538dc433eac",
   "metadata": {},
   "outputs": [
    {
     "name": "stderr",
     "output_type": "stream",
     "text": [
      "[WARNING]: No inventory was parsed, only implicit localhost is available\n",
      "[WARNING]: provided hosts list is empty, only localhost is available. Note that\n",
      "the implicit localhost does not match 'all'\n"
     ]
    },
    {
     "name": "stdout",
     "output_type": "stream",
     "text": [
      "\n",
      "PLAY [Install a EdgeMongoDB resource from OpenShift] ***************************\n",
      "\n",
      "TASK [fail] ********************************************************************\n",
      "skipping: [localhost]\n",
      "\n",
      "TASK [Query EdgeMongoDB] *******************************************************\n",
      "ok: [localhost]\n",
      "\n",
      "TASK [Set crd var] *************************************************************\n",
      "ok: [localhost]\n",
      "\n",
      "TASK [Set name var] ************************************************************\n",
      "ok: [localhost]\n",
      "\n",
      "TASK [Set namespace var] *******************************************************\n",
      "skipping: [localhost]\n",
      "\n",
      "TASK [smart-data-model-vars : Check for ENTITY_TYPE var] ***********************\n",
      "skipping: [localhost]\n",
      "\n",
      "TASK [smart-data-model-vars : Load EdgeMongoDB smart data model specific schema] ***\n",
      "ok: [localhost]\n",
      "\n",
      "TASK [smart-data-model-vars : Load EdgeMongoDB smart data model specific values] ***\n",
      "ok: [localhost]\n",
      "\n",
      "TASK [apply-edgemongodb : Add bitnami chart repo] ******************************\n",
      "ok: [localhost]\n",
      "\n",
      "TASK [apply-edgemongodb : Install FIWARE Marinera mongodb helm chart] **********\n"
     ]
    },
    {
     "name": "stderr",
     "output_type": "stream",
     "text": [
      "[WARNING]: The default idempotency check can fail to report changes in certain\n",
      "cases. Install helm diff >= 3.4.1 for better results.\n"
     ]
    },
    {
     "name": "stdout",
     "output_type": "stream",
     "text": [
      "ok: [localhost]\n",
      "\n",
      "TASK [apply-edgemongodb : Query MongoDB pod] ***********************************\n",
      "ok: [localhost]\n",
      "\n",
      "PLAY RECAP *********************************************************************\n",
      "localhost                  : ok=8    changed=0    unreachable=0    failed=0    skipped=3    rescued=0    ignored=0   \n",
      "\n"
     ]
    }
   ],
   "source": [
    "%%bash\n",
    "ansible-playbook ~/smartvillage-operator/apply-edgemongodb.yaml \\\n",
    "  -e ansible_operator_meta_namespace=$(oc get project -o jsonpath={.items[0].metadata.name}) \\\n",
    "  -e crd_path=~/smartvillage-operator/kustomize/overlays/sandbox/edgemongodbs/mongodb/edgemongodb.yaml\n"
   ]
  },
  {
   "cell_type": "code",
   "execution_count": null,
   "id": "6a69fcaf-1c0e-475b-abe0-e9c7b07b04d0",
   "metadata": {},
   "outputs": [],
   "source": []
  },
  {
   "cell_type": "code",
   "execution_count": null,
   "id": "7ea2f43d-f9a5-49e3-a727-2624b516c3fa",
   "metadata": {},
   "outputs": [],
   "source": []
  },
  {
   "cell_type": "code",
   "execution_count": null,
   "id": "0559208a-40a8-4f3b-b8ec-85f4cb73c93e",
   "metadata": {},
   "outputs": [],
   "source": []
  },
  {
   "cell_type": "code",
   "execution_count": null,
   "id": "392b71d9-2b96-4a80-9aab-061e9ceca75d",
   "metadata": {},
   "outputs": [],
   "source": []
  },
  {
   "cell_type": "code",
   "execution_count": null,
   "id": "7ad2d74e-076a-492c-b068-0ff1987c90ce",
   "metadata": {},
   "outputs": [],
   "source": []
  },
  {
   "cell_type": "code",
   "execution_count": null,
   "id": "2f793aba-a313-4936-bd6b-ba6f571b47ae",
   "metadata": {},
   "outputs": [],
   "source": []
  },
  {
   "cell_type": "code",
   "execution_count": null,
   "id": "3ef637e2-0a33-432d-b378-06962677af5f",
   "metadata": {},
   "outputs": [],
   "source": []
  }
 ],
 "metadata": {
  "kernelspec": {
   "display_name": "Python 3.9",
   "language": "python",
   "name": "python3"
  },
  "language_info": {
   "codemirror_mode": {
    "name": "ipython",
    "version": 3
   },
   "file_extension": ".py",
   "mimetype": "text/x-python",
   "name": "python",
   "nbconvert_exporter": "python",
   "pygments_lexer": "ipython3",
   "version": "3.9.16"
  }
 },
 "nbformat": 4,
 "nbformat_minor": 5
}
